{
  "nbformat": 4,
  "nbformat_minor": 0,
  "metadata": {
    "colab": {
      "name": "Lists",
      "provenance": [],
      "collapsed_sections": [],
      "authorship_tag": "ABX9TyPKZHB8A14RVBzVztYrzgUd",
      "include_colab_link": true
    },
    "kernelspec": {
      "name": "python3",
      "display_name": "Python 3"
    }
  },
  "cells": [
    {
      "cell_type": "markdown",
      "metadata": {
        "id": "view-in-github",
        "colab_type": "text"
      },
      "source": [
        "<a href=\"https://colab.research.google.com/github/amitpathakjec/Python-Projects/blob/master/Lists.ipynb\" target=\"_parent\"><img src=\"https://colab.research.google.com/assets/colab-badge.svg\" alt=\"Open In Colab\"/></a>"
      ]
    },
    {
      "cell_type": "code",
      "metadata": {
        "id": "mwF1_CKT9M-9",
        "colab_type": "code",
        "outputId": "77d4bc99-2d30-41a4-8f2d-a4fa18f14ac5",
        "colab": {
          "base_uri": "https://localhost:8080/",
          "height": 34
        }
      },
      "source": [
        "# LISTS\n",
        "[1,2,3,4,5]"
      ],
      "execution_count": 0,
      "outputs": [
        {
          "output_type": "execute_result",
          "data": {
            "text/plain": [
              "[1, 2, 3, 4, 5]"
            ]
          },
          "metadata": {
            "tags": []
          },
          "execution_count": 2
        }
      ]
    },
    {
      "cell_type": "code",
      "metadata": {
        "id": "Yr408KBp-XQJ",
        "colab_type": "code",
        "outputId": "11e8d242-3dbc-4db4-821c-76b2eb5177b3",
        "colab": {
          "base_uri": "https://localhost:8080/",
          "height": 34
        }
      },
      "source": [
        "['cat', 'bat', 'rat', 'elephant']"
      ],
      "execution_count": 0,
      "outputs": [
        {
          "output_type": "execute_result",
          "data": {
            "text/plain": [
              "['cat', 'bat', 'rat', 'elephant']"
            ]
          },
          "metadata": {
            "tags": []
          },
          "execution_count": 4
        }
      ]
    },
    {
      "cell_type": "code",
      "metadata": {
        "id": "pSTh5ZYE-e_e",
        "colab_type": "code",
        "outputId": "0a3fd2d2-475e-4dd8-efe3-e5a21c880435",
        "colab": {
          "base_uri": "https://localhost:8080/",
          "height": 34
        }
      },
      "source": [
        "['hello', 3.141414, True, None, 42]"
      ],
      "execution_count": 0,
      "outputs": [
        {
          "output_type": "execute_result",
          "data": {
            "text/plain": [
              "['hello', 3.141414, True, None, 42]"
            ]
          },
          "metadata": {
            "tags": []
          },
          "execution_count": 6
        }
      ]
    },
    {
      "cell_type": "code",
      "metadata": {
        "id": "dGjfL2US-pwP",
        "colab_type": "code",
        "outputId": "ab8ba223-399b-4b0d-ae45-8c6644499bde",
        "colab": {
          "base_uri": "https://localhost:8080/",
          "height": 34
        }
      },
      "source": [
        "# INDEXES IN A LIST\n",
        "spam = ['cat', 'bat', 'rat', 'elephant']\n",
        "spam[0]\n",
        "spam[2]"
      ],
      "execution_count": 0,
      "outputs": [
        {
          "output_type": "execute_result",
          "data": {
            "text/plain": [
              "'rat'"
            ]
          },
          "metadata": {
            "tags": []
          },
          "execution_count": 11
        }
      ]
    },
    {
      "cell_type": "code",
      "metadata": {
        "id": "dlWwGu7E-0SB",
        "colab_type": "code",
        "outputId": "3c5c42ce-9a7c-4b74-a5fd-64210d7b999f",
        "colab": {
          "base_uri": "https://localhost:8080/",
          "height": 34
        }
      },
      "source": [
        "[1,2,3,45,67,89][3]"
      ],
      "execution_count": 0,
      "outputs": [
        {
          "output_type": "execute_result",
          "data": {
            "text/plain": [
              "45"
            ]
          },
          "metadata": {
            "tags": []
          },
          "execution_count": 12
        }
      ]
    },
    {
      "cell_type": "code",
      "metadata": {
        "id": "PSBPpdBe--vY",
        "colab_type": "code",
        "outputId": "25c67ed3-2311-42b2-f20a-610f66290a72",
        "colab": {
          "base_uri": "https://localhost:8080/",
          "height": 34
        }
      },
      "source": [
        "'Hello ' + spam[2]"
      ],
      "execution_count": 0,
      "outputs": [
        {
          "output_type": "execute_result",
          "data": {
            "text/plain": [
              "'Hello rat'"
            ]
          },
          "metadata": {
            "tags": []
          },
          "execution_count": 14
        }
      ]
    },
    {
      "cell_type": "code",
      "metadata": {
        "id": "qq-FLRA0_DAr",
        "colab_type": "code",
        "colab": {}
      },
      "source": [
        "#spam[200] is not possible"
      ],
      "execution_count": 0,
      "outputs": []
    },
    {
      "cell_type": "code",
      "metadata": {
        "id": "CDSR9SN1_M7Q",
        "colab_type": "code",
        "colab": {}
      },
      "source": [
        "#spam[1.0] is also not possible"
      ],
      "execution_count": 0,
      "outputs": []
    },
    {
      "cell_type": "code",
      "metadata": {
        "id": "FXLAVf4s_YLg",
        "colab_type": "code",
        "outputId": "c0a27e6f-c13b-43ab-d9dc-1f7e7a465adc",
        "colab": {
          "base_uri": "https://localhost:8080/",
          "height": 34
        }
      },
      "source": [
        "spam = [['cat', 'rat'],[1,2,3,4,5]]\n",
        "spam[1]\n",
        "spam[1][0]"
      ],
      "execution_count": 0,
      "outputs": [
        {
          "output_type": "execute_result",
          "data": {
            "text/plain": [
              "1"
            ]
          },
          "metadata": {
            "tags": []
          },
          "execution_count": 23
        }
      ]
    },
    {
      "cell_type": "code",
      "metadata": {
        "id": "A37q1gH2_wBO",
        "colab_type": "code",
        "outputId": "73ce0a62-3c89-4382-8e3a-329d57c639cf",
        "colab": {
          "base_uri": "https://localhost:8080/",
          "height": 34
        }
      },
      "source": [
        "# NEGATIVE INDEX IS POSSIBLE IN PYTHON\n",
        "spam = [1,2,3,4,5,6,22,7,8,9]\n",
        "spam[-2]"
      ],
      "execution_count": 0,
      "outputs": [
        {
          "output_type": "execute_result",
          "data": {
            "text/plain": [
              "8"
            ]
          },
          "metadata": {
            "tags": []
          },
          "execution_count": 26
        }
      ]
    },
    {
      "cell_type": "code",
      "metadata": {
        "id": "1UPTaWe7_8co",
        "colab_type": "code",
        "outputId": "a451171d-ee18-4cd2-f1b7-5bb67ae4d065",
        "colab": {
          "base_uri": "https://localhost:8080/",
          "height": 85
        }
      },
      "source": [
        "# SLICING OF A LIST\n",
        "spam = [1,4,3,2,6,5,8,55,6,9,33,90]\n",
        "print(spam[1:3])\n",
        "print(spam[:4])\n",
        "print(spam[5:])\n",
        "print(len(spam))                                            # len of list"
      ],
      "execution_count": 0,
      "outputs": [
        {
          "output_type": "stream",
          "text": [
            "[4, 3]\n",
            "[1, 4, 3, 2]\n",
            "[5, 8, 55, 6, 9, 33, 90]\n",
            "12\n"
          ],
          "name": "stdout"
        }
      ]
    },
    {
      "cell_type": "code",
      "metadata": {
        "id": "gXhgsISkAY8D",
        "colab_type": "code",
        "outputId": "025e1f06-335d-473b-c89f-57541d4eba41",
        "colab": {
          "base_uri": "https://localhost:8080/",
          "height": 34
        }
      },
      "source": [
        "# CHANGING VALUES AT A GIVEN INDEX:\n",
        "spam = ['rat', 'cat', 'bat', 'mice']\n",
        "spam[1] = 'mm'\n",
        "spam"
      ],
      "execution_count": 0,
      "outputs": [
        {
          "output_type": "execute_result",
          "data": {
            "text/plain": [
              "['rat', 'mm', 'bat', 'mice']"
            ]
          },
          "metadata": {
            "tags": []
          },
          "execution_count": 37
        }
      ]
    },
    {
      "cell_type": "code",
      "metadata": {
        "id": "9UUEMKOPBGw7",
        "colab_type": "code",
        "outputId": "3a8c7588-b938-4bf3-e71b-ea4803698c89",
        "colab": {
          "base_uri": "https://localhost:8080/",
          "height": 68
        }
      },
      "source": [
        "# LIST REPLICATION AND CONCATINATION\n",
        "print([1,2,3]+[4,5,6])\n",
        "spam = [1,2,3,4,5]\n",
        "spam = spam + ['a','b','c','d']\n",
        "print(spam)\n",
        "\n",
        "print([1,2,3,4,5]*3)                                        # replication"
      ],
      "execution_count": 0,
      "outputs": [
        {
          "output_type": "stream",
          "text": [
            "[1, 2, 3, 4, 5, 6]\n",
            "[1, 2, 3, 4, 5, 'a', 'b', 'c', 'd']\n",
            "[1, 2, 3, 4, 5, 1, 2, 3, 4, 5, 1, 2, 3, 4, 5]\n"
          ],
          "name": "stdout"
        }
      ]
    },
    {
      "cell_type": "code",
      "metadata": {
        "id": "neY4IugeBtwH",
        "colab_type": "code",
        "outputId": "971a1e6f-7a08-4507-b433-96c0d5719b85",
        "colab": {
          "base_uri": "https://localhost:8080/",
          "height": 68
        }
      },
      "source": [
        "# DELETING VALUES FROM A LIST\n",
        "spam = [1,2,3,4,5]\n",
        "del spam[1]\n",
        "print(spam)\n",
        "span = ['rat', 'cat']\n",
        "#print(len(spam))\n",
        "del span[1]\n",
        "print(span)"
      ],
      "execution_count": 0,
      "outputs": [
        {
          "output_type": "stream",
          "text": [
            "[1, 3, 4, 5]\n",
            "4\n",
            "['rat']\n"
          ],
          "name": "stdout"
        }
      ]
    },
    {
      "cell_type": "code",
      "metadata": {
        "id": "6tOCTPIRCGVd",
        "colab_type": "code",
        "outputId": "caeda18e-9b6b-45da-ea74-71a7361f9bea",
        "colab": {
          "base_uri": "https://localhost:8080/",
          "height": 323
        }
      },
      "source": [
        "Subject_names = []\n",
        "while True:\n",
        "  print('Enter the name of subject ' + str(len(Subject_names)+1) + ' (Or enter nothing to stop):')\n",
        "  name = input()\n",
        "  if name == '':\n",
        "    break\n",
        "  Subject_names = Subject_names + [name] # list concatinatiion\n",
        "print('The Subject names are: ') \n",
        "for name in Subject_names:\n",
        "  print(' '+name)"
      ],
      "execution_count": 0,
      "outputs": [
        {
          "output_type": "stream",
          "text": [
            "Enter the name of subject 1 (Or enter nothing to stop):\n",
            "M1\n",
            "Enter the name of subject 2 (Or enter nothing to stop):\n",
            "ADA\n",
            "Enter the name of subject 3 (Or enter nothing to stop):\n",
            "BEEE\n",
            "Enter the name of subject 4 (Or enter nothing to stop):\n",
            "BCE\n",
            "Enter the name of subject 5 (Or enter nothing to stop):\n",
            "TDS\n",
            "Enter the name of subject 6 (Or enter nothing to stop):\n",
            "\n",
            "The Subject names are: \n",
            " M1\n",
            " ADA\n",
            " BEEE\n",
            " BCE\n",
            " TDS\n"
          ],
          "name": "stdout"
        }
      ]
    },
    {
      "cell_type": "code",
      "metadata": {
        "id": "F-Nt3GxxHe0H",
        "colab_type": "code",
        "outputId": "92b49df9-b39a-4d87-9b14-88e6e94e629e",
        "colab": {
          "base_uri": "https://localhost:8080/",
          "height": 170
        }
      },
      "source": [
        "# USING FOR LOOP WITH LISTS:\n",
        "for i in range(4):\n",
        "  print(i)\n",
        "print('')  \n",
        "for j in [0,1,2,3]:\n",
        "  print(j)  "
      ],
      "execution_count": 0,
      "outputs": [
        {
          "output_type": "stream",
          "text": [
            "0\n",
            "1\n",
            "2\n",
            "3\n",
            "\n",
            "0\n",
            "1\n",
            "2\n",
            "3\n"
          ],
          "name": "stdout"
        }
      ]
    },
    {
      "cell_type": "code",
      "metadata": {
        "id": "sgFQ6rshIi-8",
        "colab_type": "code",
        "outputId": "a4dd2865-0129-4ed3-8226-bf7546e18b68",
        "colab": {
          "base_uri": "https://localhost:8080/",
          "height": 34
        }
      },
      "source": [
        "# 'in' & 'not in' OPERATOR:\n",
        "'Hello' in ['Hello', 'Howdy','Goodbye'] \n",
        "spam =[1,2,3,4,5]\n",
        "6 in spam\n",
        "7 not in spam"
      ],
      "execution_count": 0,
      "outputs": [
        {
          "output_type": "execute_result",
          "data": {
            "text/plain": [
              "True"
            ]
          },
          "metadata": {
            "tags": []
          },
          "execution_count": 58
        }
      ]
    },
    {
      "cell_type": "code",
      "metadata": {
        "id": "j2JL1TwMKUmY",
        "colab_type": "code",
        "outputId": "d243a98d-c2ab-4e8c-ceaa-e4c33da48d53",
        "colab": {
          "base_uri": "https://localhost:8080/",
          "height": 51
        }
      },
      "source": [
        "my_subjects =['M1','M2','M3']\n",
        "subject = input('Enter the subject name ')\n",
        "if subject not in my_subjects:\n",
        "  print('This is not a subject of mine')\n",
        "else:\n",
        "  print('Yes '+ subject+ ' is in my subjects')  "
      ],
      "execution_count": 0,
      "outputs": [
        {
          "output_type": "stream",
          "text": [
            "Enter the subject name M2\n",
            "Yes M2 is in my subjects\n"
          ],
          "name": "stdout"
        }
      ]
    },
    {
      "cell_type": "code",
      "metadata": {
        "id": "kEwKfAXrLIZU",
        "colab_type": "code",
        "outputId": "4d557be8-9f0e-47c8-c815-ec14bd612bba",
        "colab": {
          "base_uri": "https://localhost:8080/",
          "height": 34
        }
      },
      "source": [
        "amit = [1,2,3,4,5]\n",
        "amit[0] = 7\n",
        "amit[1] = 8\n",
        "amit[2] = 9\n",
        "amit"
      ],
      "execution_count": 0,
      "outputs": [
        {
          "output_type": "execute_result",
          "data": {
            "text/plain": [
              "[7, 8, 9, 4, 5]"
            ]
          },
          "metadata": {
            "tags": []
          },
          "execution_count": 66
        }
      ]
    },
    {
      "cell_type": "code",
      "metadata": {
        "id": "8XQ_GOYoMUDL",
        "colab_type": "code",
        "outputId": "515e1a86-f93c-496d-9b5c-3bc6273045e0",
        "colab": {
          "base_uri": "https://localhost:8080/",
          "height": 34
        }
      },
      "source": [
        "# AUGMENTED ASSIGNMENT OPERATORS:\n",
        "spam = 'Hello'\n",
        "spam += ' World!'\n",
        "spam\n"
      ],
      "execution_count": 0,
      "outputs": [
        {
          "output_type": "execute_result",
          "data": {
            "text/plain": [
              "'Hello World!'"
            ]
          },
          "metadata": {
            "tags": []
          },
          "execution_count": 68
        }
      ]
    },
    {
      "cell_type": "code",
      "metadata": {
        "id": "zYae7VkZMga7",
        "colab_type": "code",
        "outputId": "e9f9aa49-49c3-42a5-b952-47b49010cc6d",
        "colab": {
          "base_uri": "https://localhost:8080/",
          "height": 34
        }
      },
      "source": [
        "bacon = ['Amit']\n",
        "bacon*3"
      ],
      "execution_count": 0,
      "outputs": [
        {
          "output_type": "execute_result",
          "data": {
            "text/plain": [
              "['Amit', 'Amit', 'Amit']"
            ]
          },
          "metadata": {
            "tags": []
          },
          "execution_count": 70
        }
      ]
    },
    {
      "cell_type": "code",
      "metadata": {
        "id": "_rdljav3NpYw",
        "colab_type": "code",
        "outputId": "4bb2bfe0-e896-4e02-c539-16bf594ec162",
        "colab": {
          "base_uri": "https://localhost:8080/",
          "height": 34
        }
      },
      "source": [
        "# FINDING A VALUE WITH ITS index IN A LIST:\n",
        "spam = ['amit', 'monica', '1-2', 'dog']\n",
        "spam.index('amit')\n",
        "print(spam.index('dog'))"
      ],
      "execution_count": 0,
      "outputs": [
        {
          "output_type": "stream",
          "text": [
            "3\n"
          ],
          "name": "stdout"
        }
      ]
    },
    {
      "cell_type": "code",
      "metadata": {
        "id": "j3BJjlQHOUG_",
        "colab_type": "code",
        "outputId": "61573dae-57ab-4ede-b5ca-8e200517cb37",
        "colab": {
          "base_uri": "https://localhost:8080/",
          "height": 51
        }
      },
      "source": [
        "# APPEND() & INSERT()                    \n",
        "spam = [1,2,3,4]\n",
        "spam.append(5)                                              # append adds value at end\n",
        "print(spam)\n",
        "\n",
        "spam.insert(1,6)                                            # insert adds value at any given index\n",
        "print(spam)"
      ],
      "execution_count": 0,
      "outputs": [
        {
          "output_type": "stream",
          "text": [
            "[1, 2, 3, 4, 5]\n",
            "[1, 6, 2, 3, 4, 5]\n"
          ],
          "name": "stdout"
        }
      ]
    },
    {
      "cell_type": "code",
      "metadata": {
        "id": "Wd5Np1QKO7rl",
        "colab_type": "code",
        "colab": {}
      },
      "source": [
        "# INSERT & APPEND are the operations for list data type only\n",
        "#eggs = 'Hello'\n",
        "#eggs.append(' World!')\n",
        "#eggs"
      ],
      "execution_count": 0,
      "outputs": []
    },
    {
      "cell_type": "code",
      "metadata": {
        "id": "k9TAoW3_PQzE",
        "colab_type": "code",
        "outputId": "7cc24ecb-9b98-43e4-8c44-2d5f9e80db71",
        "colab": {
          "base_uri": "https://localhost:8080/",
          "height": 34
        }
      },
      "source": [
        "# REMOVE()\n",
        "spam = [1,2,3,4,5]\n",
        "spam.remove(5)\n",
        "spam\n"
      ],
      "execution_count": 0,
      "outputs": [
        {
          "output_type": "execute_result",
          "data": {
            "text/plain": [
              "[1, 2, 3, 4]"
            ]
          },
          "metadata": {
            "tags": []
          },
          "execution_count": 81
        }
      ]
    },
    {
      "cell_type": "code",
      "metadata": {
        "id": "41HsUGEFReb2",
        "colab_type": "code",
        "outputId": "570e1c49-8f25-41f4-ee12-2e9fb4ee775c",
        "colab": {
          "base_uri": "https://localhost:8080/",
          "height": 34
        }
      },
      "source": [
        "# SORTING A LIST\n",
        "#1\n",
        "spam = [2,5,8,3,4,8,5,1,-9,0]\n",
        "spam.sort()\n",
        "spam"
      ],
      "execution_count": 0,
      "outputs": [
        {
          "output_type": "execute_result",
          "data": {
            "text/plain": [
              "[-9, 0, 1, 2, 3, 4, 5, 5, 8, 8]"
            ]
          },
          "metadata": {
            "tags": []
          },
          "execution_count": 88
        }
      ]
    },
    {
      "cell_type": "code",
      "metadata": {
        "id": "ES-9yy-fRuTg",
        "colab_type": "code",
        "outputId": "46ee6628-1d64-4fdb-ef6b-2948b075dfbe",
        "colab": {
          "base_uri": "https://localhost:8080/",
          "height": 51
        }
      },
      "source": [
        "#2\n",
        "spam = ['Monica','Monika','Aayush','Ayush']\n",
        "spam.sort()\n",
        "print(spam)\n",
        "spam.sort(reverse = True)\n",
        "print(spam)"
      ],
      "execution_count": 0,
      "outputs": [
        {
          "output_type": "stream",
          "text": [
            "['Aayush', 'Ayush', 'Monica', 'Monika']\n",
            "['Monika', 'Monica', 'Ayush', 'Aayush']\n"
          ],
          "name": "stdout"
        }
      ]
    },
    {
      "cell_type": "code",
      "metadata": {
        "id": "qwOfZ6PCR5sM",
        "colab_type": "code",
        "outputId": "6c8418f4-c41b-4123-d116-277e22030218",
        "colab": {
          "base_uri": "https://localhost:8080/",
          "height": 34
        }
      },
      "source": [
        "#3\n",
        "spam = ['Amit','Bob','bob','amit']\n",
        "spam.sort()\n",
        "spam"
      ],
      "execution_count": 0,
      "outputs": [
        {
          "output_type": "execute_result",
          "data": {
            "text/plain": [
              "['Amit', 'Bob', 'amit', 'bob']"
            ]
          },
          "metadata": {
            "tags": []
          },
          "execution_count": 90
        }
      ]
    },
    {
      "cell_type": "code",
      "metadata": {
        "id": "mW8FUazpSxYO",
        "colab_type": "code",
        "outputId": "4711d315-113c-4a68-c07a-268af76f9978",
        "colab": {
          "base_uri": "https://localhost:8080/",
          "height": 34
        }
      },
      "source": [
        "#4                                                          (to sort in alphabetical order)\n",
        "spam = ['a','z','A','Z']\n",
        "spam.sort( key = str.lower )\n",
        "spam"
      ],
      "execution_count": 0,
      "outputs": [
        {
          "output_type": "execute_result",
          "data": {
            "text/plain": [
              "['a', 'A', 'z', 'Z']"
            ]
          },
          "metadata": {
            "tags": []
          },
          "execution_count": 91
        }
      ]
    },
    {
      "cell_type": "code",
      "metadata": {
        "id": "KcMXhtZaTUrt",
        "colab_type": "code",
        "outputId": "ed0a8149-cfcf-419a-d98a-1369cfb158c8",
        "colab": {
          "base_uri": "https://localhost:8080/",
          "height": 51
        }
      },
      "source": [
        "# MAGIC 8 BALL EXAMPLE WITH A LIST\n",
        "import random\n",
        "\n",
        "message = ['Amit ',\n",
        "           ' you more than anything',\n",
        "           'Even though he ',\n",
        "           'Youch',\n",
        "           'Manything',\n",
        "           'A more',\n",
        "           'You juof me']\n",
        "Num = int(input('Please enter a no of your choice: '))\n",
        "print(message[random.randint(0,len(message)-1)])"
      ],
      "execution_count": 0,
      "outputs": [
        {
          "output_type": "stream",
          "text": [
            "Please enter a no of your choice: 3\n",
            "Even though he \n"
          ],
          "name": "stdout"
        }
      ]
    },
    {
      "cell_type": "code",
      "metadata": {
        "id": "AQVTJ846WIbF",
        "colab_type": "code",
        "outputId": "e812e7fb-8f86-445c-8bc6-a802d2c46d74",
        "colab": {
          "base_uri": "https://localhost:8080/",
          "height": 34
        }
      },
      "source": [
        "spam = [1,\n",
        "      2,                3,\n",
        "                4]\n",
        "print(spam)"
      ],
      "execution_count": 0,
      "outputs": [
        {
          "output_type": "stream",
          "text": [
            "[1, 2, 3, 4]\n"
          ],
          "name": "stdout"
        }
      ]
    },
    {
      "cell_type": "code",
      "metadata": {
        "id": "CfwoGZlBXvTj",
        "colab_type": "code",
        "outputId": "ce569e64-33dc-41ae-f1d1-f13693eca8e7",
        "colab": {
          "base_uri": "https://localhost:8080/",
          "height": 102
        }
      },
      "source": [
        "name = 'Amit'\n",
        "for i in name:\n",
        "  print('* * * '+i+' * * *')\n",
        "\n",
        "print(name[0])  "
      ],
      "execution_count": 0,
      "outputs": [
        {
          "output_type": "stream",
          "text": [
            "* * * A * * *\n",
            "* * * m * * *\n",
            "* * * i * * *\n",
            "* * * t * * *\n",
            "A\n"
          ],
          "name": "stdout"
        }
      ]
    },
    {
      "cell_type": "code",
      "metadata": {
        "id": "t28ZWTMbYGls",
        "colab_type": "code",
        "outputId": "24d64937-97f4-44f8-ed11-91c478a2d665",
        "colab": {
          "base_uri": "https://localhost:8080/",
          "height": 51
        }
      },
      "source": [
        "# MUTABLE AND IMMUTABLE DATA TYPES                          # string is unchangble i.e., immutable\n",
        "name = 'Amit Pathak'                                        # a list is mutable\n",
        "# name[7] = 'the'\n",
        "newname = name[:4]+' the '+name[5:]\n",
        "print(name)\n",
        "print(newname)"
      ],
      "execution_count": 0,
      "outputs": [
        {
          "output_type": "stream",
          "text": [
            "Amit Pathak\n",
            "Amit the Pathak\n"
          ],
          "name": "stdout"
        }
      ]
    },
    {
      "cell_type": "code",
      "metadata": {
        "id": "VApQGVSlY2Ni",
        "colab_type": "code",
        "outputId": "47c1b88f-ad01-468b-a826-7b8b4c4e699b",
        "colab": {
          "base_uri": "https://localhost:8080/",
          "height": 68
        }
      },
      "source": [
        " # THE TUPLE DATA TYPE\n",
        "t = (1,2,3,4,5)\n",
        "print(t[1])\n",
        "print(t[0:4])                                               # the starting index is excluded.\n",
        "print(t[2:])\n",
        "# tuples are immutable like strings\n",
        "# example\n",
        "eggs = (1,2,3,4)\n",
        "#eggs[1] = 21"
      ],
      "execution_count": 0,
      "outputs": [
        {
          "output_type": "stream",
          "text": [
            "2\n",
            "(1, 2, 3, 4)\n",
            "(3, 4, 5)\n"
          ],
          "name": "stdout"
        }
      ]
    },
    {
      "cell_type": "code",
      "metadata": {
        "id": "t8wk0G5mejAt",
        "colab_type": "code",
        "outputId": "366db027-2f3c-488c-fa06-21091928d4c6",
        "colab": {
          "base_uri": "https://localhost:8080/",
          "height": 34
        }
      },
      "source": [
        "# TUPLE IS  IMMUTABLE or UNCHANGABLE DATA TYPE\n",
        "t = ('hello',1,0.5)\n",
        "#t[1] = 12\n",
        "print(t)"
      ],
      "execution_count": 0,
      "outputs": [
        {
          "output_type": "stream",
          "text": [
            "('hello', 1, 0.5)\n"
          ],
          "name": "stdout"
        }
      ]
    },
    {
      "cell_type": "code",
      "metadata": {
        "id": "utbpTW0ke5ki",
        "colab_type": "code",
        "outputId": "d4014c9a-af0b-417a-97af-f81a8d834661",
        "colab": {
          "base_uri": "https://localhost:8080/",
          "height": 34
        }
      },
      "source": [
        "# LIST TO TUPPLE AND  VICE-VERSA\n",
        "tuple([1,2,3,4,5])\n",
        "list((1,2,3,4,5,6))\n",
        "list('hello')"
      ],
      "execution_count": 0,
      "outputs": [
        {
          "output_type": "execute_result",
          "data": {
            "text/plain": [
              "['h', 'e', 'l', 'l', 'o']"
            ]
          },
          "metadata": {
            "tags": []
          },
          "execution_count": 13
        }
      ]
    },
    {
      "cell_type": "code",
      "metadata": {
        "id": "DhFEGfbJgjx5",
        "colab_type": "code",
        "outputId": "9aabd5f0-39ec-4db8-efe4-0e61c971d5de",
        "colab": {
          "base_uri": "https://localhost:8080/",
          "height": 34
        }
      },
      "source": [
        "# PASSING REFERENCE\n",
        "def eggs(some_parameter):\n",
        "  some_parameter.append('hello')\n",
        "spam = [1,2,3,4,5]\n",
        "#spam = (1,2,3,4)                                           # As we can't append a value to tuple\n",
        "eggs(spam)\n",
        "print(spam)  "
      ],
      "execution_count": 0,
      "outputs": [
        {
          "output_type": "stream",
          "text": [
            "[1, 2, 3, 4, 5, 'hello']\n"
          ],
          "name": "stdout"
        }
      ]
    },
    {
      "cell_type": "code",
      "metadata": {
        "id": "MIj6eYXzhefT",
        "colab_type": "code",
        "outputId": "6cc8cfc9-04b3-454b-9a2c-40803a09b354",
        "colab": {
          "base_uri": "https://localhost:8080/",
          "height": 34
        }
      },
      "source": [
        "print(\" Hello, I'm Amit Pathak \")"
      ],
      "execution_count": 0,
      "outputs": [
        {
          "output_type": "stream",
          "text": [
            " Hello, I'm Amit Pathak \n"
          ],
          "name": "stdout"
        }
      ]
    },
    {
      "cell_type": "code",
      "metadata": {
        "id": "0O2nf7oNh4YQ",
        "colab_type": "code",
        "outputId": "fcf9fc48-22d5-428e-b7cf-a52c97904f89",
        "colab": {
          "base_uri": "https://localhost:8080/",
          "height": 85
        }
      },
      "source": [
        "# THE COPY MODULE'S copy() AND deepcopy()\n",
        "import copy\n",
        "spam = [1,2,3,4,5]\n",
        "cheese = copy.copy(spam)\n",
        "print(cheese)\n",
        "cheese[1] = 'Amit'\n",
        "print(cheese)\n",
        "print(spam)\n",
        "spam[:3]"
      ],
      "execution_count": 0,
      "outputs": [
        {
          "output_type": "stream",
          "text": [
            "[1, 2, 3, 4, 5]\n",
            "[1, 'Amit', 3, 4, 5]\n",
            "[1, 2, 3, 4, 5]\n"
          ],
          "name": "stdout"
        },
        {
          "output_type": "execute_result",
          "data": {
            "text/plain": [
              "[1, 2, 3]"
            ]
          },
          "metadata": {
            "tags": []
          },
          "execution_count": 43
        }
      ]
    },
    {
      "cell_type": "code",
      "metadata": {
        "id": "3mNpXKLTjIId",
        "colab_type": "code",
        "outputId": "58082c18-74cd-4bcd-8be5-e809427231f6",
        "colab": {
          "base_uri": "https://localhost:8080/",
          "height": 51
        }
      },
      "source": [
        "a = int('3'*2)/11\n",
        "print(a)\n",
        "print(int('5'*1)/2)"
      ],
      "execution_count": 0,
      "outputs": [
        {
          "output_type": "stream",
          "text": [
            "3.0\n",
            "2.5\n"
          ],
          "name": "stdout"
        }
      ]
    },
    {
      "cell_type": "code",
      "metadata": {
        "id": "F8Q8sqPbo8oi",
        "colab_type": "code",
        "outputId": "ed8a4179-647a-4f1b-deaf-c7fb86e79832",
        "colab": {
          "base_uri": "https://localhost:8080/",
          "height": 34
        }
      },
      "source": [
        "# DEEPCOPY()\n",
        "l = [1,2,3,4,5]\n",
        "m = copy.deepcopy(l)\n",
        "l.append(6)\n",
        "print(m)"
      ],
      "execution_count": 0,
      "outputs": [
        {
          "output_type": "stream",
          "text": [
            "[1, 2, 3, 4, 5]\n"
          ],
          "name": "stdout"
        }
      ]
    },
    {
      "cell_type": "code",
      "metadata": {
        "id": "Hwi1_YC9ptrz",
        "colab_type": "code",
        "outputId": "68fbbc81-a0d4-4738-afa5-44d12f07676d",
        "colab": {
          "base_uri": "https://localhost:8080/",
          "height": 34
        }
      },
      "source": [
        "# Comma Code (practice program)\n",
        "spam = ['apple', 'banana', 'tofu', 'cats','rat','self']\n",
        "def sepration(list):\n",
        "  for element in list[0:-2]:\n",
        "    print(element, end = ',')  \n",
        "  print(list[-2],end = ' and ')\n",
        "  print(list[-1])\n",
        "  \n",
        "  \n",
        "\n",
        "sepration(spam)"
      ],
      "execution_count": 0,
      "outputs": [
        {
          "output_type": "stream",
          "text": [
            "apple,banana,tofu,cats,rat and self\n"
          ],
          "name": "stdout"
        }
      ]
    }
  ]
}