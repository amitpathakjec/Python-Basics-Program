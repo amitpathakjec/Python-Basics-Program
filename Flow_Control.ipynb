{
  "nbformat": 4,
  "nbformat_minor": 0,
  "metadata": {
    "colab": {
      "name": "Flow_Control.ipynb",
      "provenance": [],
      "collapsed_sections": [],
      "authorship_tag": "ABX9TyNup1PNyWYXXugN6Biz4Y9r",
      "include_colab_link": true
    },
    "kernelspec": {
      "name": "python3",
      "display_name": "Python 3"
    }
  },
  "cells": [
    {
      "cell_type": "markdown",
      "metadata": {
        "id": "view-in-github",
        "colab_type": "text"
      },
      "source": [
        "<a href=\"https://colab.research.google.com/github/amitpathakjec/Python-Projects/blob/master/Flow_Control.ipynb\" target=\"_parent\"><img src=\"https://colab.research.google.com/assets/colab-badge.svg\" alt=\"Open In Colab\"/></a>"
      ]
    },
    {
      "cell_type": "code",
      "metadata": {
        "id": "cAVWonhXwrYV",
        "colab_type": "code",
        "outputId": "e2939333-d16b-4305-e28a-8504f2c1279a",
        "colab": {
          "base_uri": "https://localhost:8080/",
          "height": 34
        }
      },
      "source": [
        "# BOOLEAN VALUES (True/False)\n",
        "spam = True \n",
        "spam"
      ],
      "execution_count": 0,
      "outputs": [
        {
          "output_type": "execute_result",
          "data": {
            "text/plain": [
              "True"
            ]
          },
          "metadata": {
            "tags": []
          },
          "execution_count": 3
        }
      ]
    },
    {
      "cell_type": "code",
      "metadata": {
        "id": "ks8ZyseIzlga",
        "colab_type": "code",
        "outputId": "811d2b10-08d0-4da0-e2ba-b2e8951bde4a",
        "colab": {
          "base_uri": "https://localhost:8080/",
          "height": 34
        }
      },
      "source": [
        "True\n",
        "#true"
      ],
      "execution_count": 0,
      "outputs": [
        {
          "output_type": "execute_result",
          "data": {
            "text/plain": [
              "True"
            ]
          },
          "metadata": {
            "tags": []
          },
          "execution_count": 6
        }
      ]
    },
    {
      "cell_type": "code",
      "metadata": {
        "id": "vzE7eh4n0AYy",
        "colab_type": "code",
        "outputId": "ad00be33-3f71-4f43-e6a7-49cc9500027f",
        "colab": {
          "base_uri": "https://localhost:8080/",
          "height": 34
        }
      },
      "source": [
        "# COMPARISON OPERATORS\n",
        "2 != 3\n",
        "3 == 3\n",
        "3 <= 2\n",
        "42 >= 21\n",
        "44 == 99"
      ],
      "execution_count": 0,
      "outputs": [
        {
          "output_type": "execute_result",
          "data": {
            "text/plain": [
              "False"
            ]
          },
          "metadata": {
            "tags": []
          },
          "execution_count": 12
        }
      ]
    },
    {
      "cell_type": "code",
      "metadata": {
        "id": "OwNkJeBi0dKw",
        "colab_type": "code",
        "outputId": "b47eb246-5e5a-4393-a8db-2ca12e5d7e67",
        "colab": {
          "base_uri": "https://localhost:8080/",
          "height": 34
        }
      },
      "source": [
        "# COMPARISON OF STRINGS\n",
        "'hello' == 'hello'\n",
        "False == False\n",
        "True != False\n",
        "42 == '42'\n",
        "egg_count = 42\n",
        "egg_count <= 42\n",
        "\n",
        "My_age = 21\n",
        "My_age >= 10"
      ],
      "execution_count": 0,
      "outputs": [
        {
          "output_type": "execute_result",
          "data": {
            "text/plain": [
              "True"
            ]
          },
          "metadata": {
            "tags": []
          },
          "execution_count": 18
        }
      ]
    },
    {
      "cell_type": "code",
      "metadata": {
        "id": "AtVwSREi4S5T",
        "colab_type": "code",
        "outputId": "82f3fdc1-94d3-4160-ee9e-9b42b08ebd6a",
        "colab": {
          "base_uri": "https://localhost:8080/",
          "height": 34
        }
      },
      "source": [
        "# BOOLEAN OPERATORS\n",
        "4<=5 and 5<=6\n",
        "4<=5 and 4>=5\n",
        "\n",
        "4==4 or 3<=2\n",
        "3<=2 or 4<=2\n",
        "\n",
        "not 3<=4\n",
        "not 1==2\n",
        "\n",
        "not not not not not not True"
      ],
      "execution_count": 0,
      "outputs": [
        {
          "output_type": "execute_result",
          "data": {
            "text/plain": [
              "True"
            ]
          },
          "metadata": {
            "tags": []
          },
          "execution_count": 26
        }
      ]
    },
    {
      "cell_type": "code",
      "metadata": {
        "id": "CzEPSuNa5yBj",
        "colab_type": "code",
        "outputId": "d5feae44-25d1-4140-e4c8-f4ca17cf5780",
        "colab": {
          "base_uri": "https://localhost:8080/",
          "height": 85
        }
      },
      "source": [
        "# FLOW CONTROL\n",
        "name = input('   Please enter username')\n",
        "if name == 'Amit':\n",
        "  print('Hello, Amit') \n",
        "  password = input('Please enter the password')\n",
        "  if password == 'Amit@123':\n",
        "    print('Access granted')\n",
        "  else:\n",
        "    print('Wrong password')    "
      ],
      "execution_count": 0,
      "outputs": [
        {
          "output_type": "stream",
          "text": [
            "   Please enter usernameAmit\n",
            "Hello, Amit\n",
            "Please enter the passwordAmit@@12\n",
            "Wrong password\n"
          ],
          "name": "stdout"
        }
      ]
    },
    {
      "cell_type": "code",
      "metadata": {
        "id": "fClYNrrp6ytX",
        "colab_type": "code",
        "outputId": "f096c68c-d9d0-4788-a4fb-a1eeddf0140d",
        "colab": {
          "base_uri": "https://localhost:8080/",
          "height": 34
        }
      },
      "source": [
        "# if STATEMENT (only if)\n",
        "if name == 'Amit':\n",
        "  print('Hi, Amit')"
      ],
      "execution_count": 0,
      "outputs": [
        {
          "output_type": "stream",
          "text": [
            "Hi, Amit\n"
          ],
          "name": "stdout"
        }
      ]
    },
    {
      "cell_type": "code",
      "metadata": {
        "id": "JXd_FnEn8Our",
        "colab_type": "code",
        "outputId": "7adc8d77-0c09-41db-a9a3-5687c145b5d0",
        "colab": {
          "base_uri": "https://localhost:8080/",
          "height": 34
        }
      },
      "source": [
        "# else STATEMENT (if, else)\n",
        "if name == 'Amit':\n",
        "  print('Hi, Amit')\n",
        "else:\n",
        "  print('Hello, Stranger')  "
      ],
      "execution_count": 0,
      "outputs": [
        {
          "output_type": "stream",
          "text": [
            "Hi, Amit\n"
          ],
          "name": "stdout"
        }
      ]
    },
    {
      "cell_type": "code",
      "metadata": {
        "id": "slTGQPp48mim",
        "colab_type": "code",
        "outputId": "79312b5a-7ac3-4a37-ba23-9baf241d70d9",
        "colab": {
          "base_uri": "https://localhost:8080/",
          "height": 51
        }
      },
      "source": [
        "# elif STATEMENT (if, elif, elif, elif)\n",
        "age = int(input('enter the age: '))\n",
        "if age < 12:\n",
        "  print('a')\n",
        "elif age > 100:\n",
        "  print('b')\n",
        "elif age > 2000:\n",
        "  print('c')\n",
        "elif age <0:\n",
        "  print('not possible dude!')    \n",
        "\n"
      ],
      "execution_count": 0,
      "outputs": [
        {
          "output_type": "stream",
          "text": [
            "enter the age: 09\n",
            "a\n"
          ],
          "name": "stdout"
        }
      ]
    },
    {
      "cell_type": "code",
      "metadata": {
        "id": "nzapjztGLUL1",
        "colab_type": "code",
        "outputId": "6dbb1f0c-b5ec-486d-927a-6be90eb9347a",
        "colab": {
          "base_uri": "https://localhost:8080/",
          "height": 102
        }
      },
      "source": [
        "# WHILE LOOP\n",
        "a = 1\n",
        "while a <= 5:\n",
        "  print(str(a) + ' Hello world!')\n",
        "  a += 1"
      ],
      "execution_count": 0,
      "outputs": [
        {
          "output_type": "stream",
          "text": [
            "1 Hello world!\n",
            "2 Hello world!\n",
            "3 Hello world!\n",
            "4 Hello world!\n",
            "5 Hello world!\n"
          ],
          "name": "stdout"
        }
      ]
    },
    {
      "cell_type": "code",
      "metadata": {
        "id": "sf3-r3R4L2kw",
        "colab_type": "code",
        "outputId": "6feeb278-7645-4f4b-ace4-ca75fc475da9",
        "colab": {
          "base_uri": "https://localhost:8080/",
          "height": 170
        }
      },
      "source": [
        "# An annoying while loop\n",
        "name = ''\n",
        "while name != 'your name':\n",
        "  print('please type your name')\n",
        "  name = input()\n",
        "print('Thank you')  "
      ],
      "execution_count": 0,
      "outputs": [
        {
          "output_type": "stream",
          "text": [
            "please type your name\n",
            "amit\n",
            "please type your name\n",
            "monica\n",
            "please type your name\n",
            "12\n",
            "please type your name\n",
            "your name\n",
            "Thank you\n"
          ],
          "name": "stdout"
        }
      ]
    },
    {
      "cell_type": "code",
      "metadata": {
        "id": "iV3MuFcqMTDE",
        "colab_type": "code",
        "outputId": "211a9b31-6221-40a7-cc91-e3e3d7a188e3",
        "colab": {
          "base_uri": "https://localhost:8080/",
          "height": 136
        }
      },
      "source": [
        "# BREAK STATEMENT:\n",
        "while True:\n",
        "  name = input('Please enter your name ')\n",
        "  if name == 'your name':\n",
        "    break\n",
        "print('Thank you')    "
      ],
      "execution_count": 0,
      "outputs": [
        {
          "output_type": "stream",
          "text": [
            "Please enter your name amit\n",
            "Please enter your name 12\n",
            "Please enter your name 123\n",
            "Please enter your name pradumn\n",
            "Please enter your name romil\n",
            "Please enter your name your name\n",
            "Thank you\n"
          ],
          "name": "stdout"
        }
      ]
    },
    {
      "cell_type": "code",
      "metadata": {
        "id": "iu4WlX9tNJwz",
        "colab_type": "code",
        "outputId": "600089da-39e9-477a-88cc-224f2b2394dc",
        "colab": {
          "base_uri": "https://localhost:8080/",
          "height": 34
        }
      },
      "source": [
        "# INFINITE WHILE LOOP:\n",
        "while True:\n",
        "  #print('Hello')\n",
        "  #break"
      ],
      "execution_count": 0,
      "outputs": [
        {
          "output_type": "stream",
          "text": [
            "Hello\n"
          ],
          "name": "stdout"
        }
      ]
    },
    {
      "cell_type": "code",
      "metadata": {
        "id": "KR0maxKGO20y",
        "colab_type": "code",
        "outputId": "5a9297d5-d7bb-48e9-8155-665fe9b0c848",
        "colab": {
          "base_uri": "https://localhost:8080/",
          "height": 85
        }
      },
      "source": [
        "# CONTINUE STATEMENT:\n",
        "while True:\n",
        "  name = input('Who are you?')\n",
        "  if name != 'Amit':\n",
        "    continue\n",
        "  password = input('Hello, Amit. What is the password? (It is fish.)')\n",
        "  if password == 'swordfish':\n",
        "    break\n",
        "print('Access granted')    "
      ],
      "execution_count": 0,
      "outputs": [
        {
          "output_type": "stream",
          "text": [
            "Who are you?amit\n",
            "Who are you?Amit\n",
            "Hello, Amit. What is the password? (It is fish.)swordfish\n",
            "Access granted\n"
          ],
          "name": "stdout"
        }
      ]
    },
    {
      "cell_type": "code",
      "metadata": {
        "id": "n0JsNBHcQqWe",
        "colab_type": "code",
        "outputId": "77019cad-cc99-491b-d7c9-6141cef6daf7",
        "colab": {
          "base_uri": "https://localhost:8080/",
          "height": 119
        }
      },
      "source": [
        "# FOR LOOP \n",
        "print('My name is ')\n",
        "for i in range(5):\n",
        "  print('Amit five times ('+str(i)+ ')')"
      ],
      "execution_count": 0,
      "outputs": [
        {
          "output_type": "stream",
          "text": [
            "My name is \n",
            "Amit five times (0)\n",
            "Amit five times (1)\n",
            "Amit five times (2)\n",
            "Amit five times (3)\n",
            "Amit five times (4)\n"
          ],
          "name": "stdout"
        }
      ]
    },
    {
      "cell_type": "code",
      "metadata": {
        "id": "HSn07xNbUY2z",
        "colab_type": "code",
        "outputId": "edb06b3d-7d17-4b7c-8871-646914b29a0b",
        "colab": {
          "base_uri": "https://localhost:8080/",
          "height": 34
        }
      },
      "source": [
        "total = 0\n",
        "for num in range(101):\n",
        "  total = total + num\n",
        "print(total)  "
      ],
      "execution_count": 0,
      "outputs": [
        {
          "output_type": "stream",
          "text": [
            "5050\n"
          ],
          "name": "stdout"
        }
      ]
    },
    {
      "cell_type": "code",
      "metadata": {
        "id": "zuEF3YuyU3lY",
        "colab_type": "code",
        "outputId": "5c2c3fdf-c963-45af-b3ea-4616667bd21c",
        "colab": {
          "base_uri": "https://localhost:8080/",
          "height": 119
        }
      },
      "source": [
        "print('My name is ')\n",
        "i=0\n",
        "while i < 5:\n",
        "  print( 'Amit five times (' + str(i) + ')')\n",
        "  i = i+1\n",
        "\n",
        "  "
      ],
      "execution_count": 0,
      "outputs": [
        {
          "output_type": "stream",
          "text": [
            "My name is \n",
            "Amit five times (0)\n",
            "Amit five times (1)\n",
            "Amit five times (2)\n",
            "Amit five times (3)\n",
            "Amit five times (4)\n"
          ],
          "name": "stdout"
        }
      ]
    },
    {
      "cell_type": "code",
      "metadata": {
        "id": "gJMpUTocWZE2",
        "colab_type": "code",
        "outputId": "44759d7c-25b4-43ca-fb57-6d821747dbb9",
        "colab": {
          "base_uri": "https://localhost:8080/",
          "height": 119
        }
      },
      "source": [
        "for i in range(0,11,2):\n",
        "  print(i)"
      ],
      "execution_count": 0,
      "outputs": [
        {
          "output_type": "stream",
          "text": [
            "0\n",
            "2\n",
            "4\n",
            "6\n",
            "8\n",
            "10\n"
          ],
          "name": "stdout"
        }
      ]
    },
    {
      "cell_type": "code",
      "metadata": {
        "id": "oT6Od1Z9We_a",
        "colab_type": "code",
        "outputId": "b4ad0e21-4cda-4af8-c4cc-13a77ba4b361",
        "colab": {
          "base_uri": "https://localhost:8080/",
          "height": 119
        }
      },
      "source": [
        "for i in range(5,-1,-1):\n",
        "  print(i)"
      ],
      "execution_count": 0,
      "outputs": [
        {
          "output_type": "stream",
          "text": [
            "5\n",
            "4\n",
            "3\n",
            "2\n",
            "1\n",
            "0\n"
          ],
          "name": "stdout"
        }
      ]
    },
    {
      "cell_type": "code",
      "metadata": {
        "id": "HdneG2uWWkPS",
        "colab_type": "code",
        "outputId": "75e26621-d1f7-45a3-87ea-70fd62558d8f",
        "colab": {
          "base_uri": "https://localhost:8080/",
          "height": 102
        }
      },
      "source": [
        "# IMPORTING MODULES \n",
        "import random                                                #Ex. of a import statement importing 4 modules\n",
        "for i in range(5):                                           #import sys, os, random, math\n",
        "  print(random.randint(1,10))"
      ],
      "execution_count": 0,
      "outputs": [
        {
          "output_type": "stream",
          "text": [
            "3\n",
            "3\n",
            "4\n",
            "6\n",
            "1\n"
          ],
          "name": "stdout"
        }
      ]
    },
    {
      "cell_type": "code",
      "metadata": {
        "id": "xRxWA3VNW7YL",
        "colab_type": "code",
        "outputId": "6a2467f4-646d-41be-a2a3-c33f8a01d0ba",
        "colab": {
          "base_uri": "https://localhost:8080/",
          "height": 34
        }
      },
      "source": [
        "# RANDOM KEYWORD                                             #There is something called as #from import statement#\n",
        "import random \n",
        "print(random.randint(1,20))"
      ],
      "execution_count": 0,
      "outputs": [
        {
          "output_type": "stream",
          "text": [
            "1\n"
          ],
          "name": "stdout"
        }
      ]
    },
    {
      "cell_type": "code",
      "metadata": {
        "id": "6j7dHPEgXWLW",
        "colab_type": "code",
        "colab": {}
      },
      "source": [
        "#import sys\n",
        "\n",
        "#while True:\n",
        "  #print('Type exit to exit')\n",
        " # response = input()\n",
        "  ##if response == 'exit':\n",
        "    #sys.exit()\n",
        " # print('You typed ' + response + '.')  "
      ],
      "execution_count": 0,
      "outputs": []
    },
    {
      "cell_type": "code",
      "metadata": {
        "id": "lNede55_Zs5l",
        "colab_type": "code",
        "outputId": "c96f3547-2608-4e00-94d0-d6c13fe5388d",
        "colab": {
          "base_uri": "https://localhost:8080/",
          "height": 51
        }
      },
      "source": [
        "spam = int(input('enter a value for spam '))\n",
        "if spam == 1:\n",
        "  print('Hello')\n",
        "elif spam == 2:\n",
        "  print('Howdy')\n",
        "else:\n",
        "  print('Greetings')  "
      ],
      "execution_count": 0,
      "outputs": [
        {
          "output_type": "stream",
          "text": [
            "enter a value for spam 2\n",
            "Howdy\n"
          ],
          "name": "stdout"
        }
      ]
    },
    {
      "cell_type": "code",
      "metadata": {
        "id": "XRrZ16dZaXGW",
        "colab_type": "code",
        "outputId": "8600d0ee-9e8f-44cf-a3d7-3d10938b2deb",
        "colab": {
          "base_uri": "https://localhost:8080/",
          "height": 187
        }
      },
      "source": [
        "i=1\n",
        "while i <11:\n",
        "  print(i)\n",
        "  i = i+1"
      ],
      "execution_count": 0,
      "outputs": [
        {
          "output_type": "stream",
          "text": [
            "1\n",
            "2\n",
            "3\n",
            "4\n",
            "5\n",
            "6\n",
            "7\n",
            "8\n",
            "9\n",
            "10\n"
          ],
          "name": "stdout"
        }
      ]
    },
    {
      "cell_type": "code",
      "metadata": {
        "id": "udqNch3XbKNR",
        "colab_type": "code",
        "outputId": "533e8346-a9df-49e2-de8d-cc7414064505",
        "colab": {
          "base_uri": "https://localhost:8080/",
          "height": 34
        }
      },
      "source": [
        "round(11.99)"
      ],
      "execution_count": 0,
      "outputs": [
        {
          "output_type": "execute_result",
          "data": {
            "text/plain": [
              "12"
            ]
          },
          "metadata": {
            "tags": []
          },
          "execution_count": 112
        }
      ]
    },
    {
      "cell_type": "code",
      "metadata": {
        "id": "BKj9GUjSbNFw",
        "colab_type": "code",
        "outputId": "c97b377e-b3a2-4b36-8ae7-8d7ccc249d34",
        "colab": {
          "base_uri": "https://localhost:8080/",
          "height": 34
        }
      },
      "source": [
        "abs(11.4)"
      ],
      "execution_count": 0,
      "outputs": [
        {
          "output_type": "execute_result",
          "data": {
            "text/plain": [
              "11.4"
            ]
          },
          "metadata": {
            "tags": []
          },
          "execution_count": 113
        }
      ]
    },
    {
      "cell_type": "code",
      "metadata": {
        "id": "C1exCkJ7bPTC",
        "colab_type": "code",
        "outputId": "eadd8bd8-b439-4db7-fdcd-0688f36211be",
        "colab": {
          "base_uri": "https://localhost:8080/",
          "height": 34
        }
      },
      "source": [
        "abs(11.665801286)"
      ],
      "execution_count": 0,
      "outputs": [
        {
          "output_type": "execute_result",
          "data": {
            "text/plain": [
              "11.665801286"
            ]
          },
          "metadata": {
            "tags": []
          },
          "execution_count": 114
        }
      ]
    },
    {
      "cell_type": "code",
      "metadata": {
        "id": "urKGBFfXbS_C",
        "colab_type": "code",
        "outputId": "a36e3b81-235c-4504-a2a0-919ad1851caa",
        "colab": {
          "base_uri": "https://localhost:8080/",
          "height": 34
        }
      },
      "source": [
        "abs(11)"
      ],
      "execution_count": 0,
      "outputs": [
        {
          "output_type": "execute_result",
          "data": {
            "text/plain": [
              "11"
            ]
          },
          "metadata": {
            "tags": []
          },
          "execution_count": 117
        }
      ]
    },
    {
      "cell_type": "code",
      "metadata": {
        "id": "ajPShG0ubYFu",
        "colab_type": "code",
        "colab": {}
      },
      "source": [
        ""
      ],
      "execution_count": 0,
      "outputs": []
    }
  ]
}