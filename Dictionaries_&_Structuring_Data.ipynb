{
  "nbformat": 4,
  "nbformat_minor": 0,
  "metadata": {
    "colab": {
      "name": "Dictionaries_&_Structuring_Data",
      "provenance": [],
      "collapsed_sections": [],
      "authorship_tag": "ABX9TyOawmK1qljR1nnQqEztZgrp",
      "include_colab_link": true
    },
    "kernelspec": {
      "name": "python3",
      "display_name": "Python 3"
    }
  },
  "cells": [
    {
      "cell_type": "markdown",
      "metadata": {
        "id": "view-in-github",
        "colab_type": "text"
      },
      "source": [
        "<a href=\"https://colab.research.google.com/github/amitpathakjec/Python-Projects/blob/master/Dictionaries_%26_Structuring_Data.ipynb\" target=\"_parent\"><img src=\"https://colab.research.google.com/assets/colab-badge.svg\" alt=\"Open In Colab\"/></a>"
      ]
    },
    {
      "cell_type": "code",
      "metadata": {
        "id": "TlC8D_m0ptOR",
        "colab_type": "code",
        "outputId": "0afdc716-541f-4efe-fa5b-07c6b9a3c8b7",
        "colab": {
          "base_uri": "https://localhost:8080/",
          "height": 51
        }
      },
      "source": [
        "# DICTIONARY DATA TYPE\n",
        "myCat = {'size':'fat', 'color':'gray', 'disposition':'loud'}\n",
        "print(myCat['size'])\n",
        "print('My cat has '+ myCat['color']+ \" fur\")"
      ],
      "execution_count": 0,
      "outputs": [
        {
          "output_type": "stream",
          "text": [
            "fat\n",
            "My cat has gray fur\n"
          ],
          "name": "stdout"
        }
      ]
    },
    {
      "cell_type": "code",
      "metadata": {
        "id": "P9n1fieWwCq7",
        "colab_type": "code",
        "outputId": "d7f7fc7d-8c40-4247-9e99-5754ee271277",
        "colab": {
          "base_uri": "https://localhost:8080/",
          "height": 34
        }
      },
      "source": [
        "TOC = {'Max_maark':'100', 'My_score':'73'}\n",
        "print( \"I Scored \"+TOC['My_score']+\" marks in TOC out of \"+TOC['Max_maark'])"
      ],
      "execution_count": 0,
      "outputs": [
        {
          "output_type": "stream",
          "text": [
            "I Scored 73 marks in TOC out of 100\n"
          ],
          "name": "stdout"
        }
      ]
    },
    {
      "cell_type": "code",
      "metadata": {
        "id": "VahWEqorwvhW",
        "colab_type": "code",
        "outputId": "82972158-fa16-4f2b-9daa-cd19e7d51ff4",
        "colab": {
          "base_uri": "https://localhost:8080/",
          "height": 68
        }
      },
      "source": [
        "# DICTIONARIES V/S LISTS\n",
        "spam = [1,2,3,4]\n",
        "baco = [1,3,2,4]\n",
        "print(spam == baco)\n",
        "\n",
        "him  = {'name':'amit'  , 'age':'21'}\n",
        "her  = {'color':'fair' , 'hair':'long'}\n",
        "himm = {'age':'21'     , 'name':'amit'}\n",
        "print(himm == him)                                          # order doesn't matter\n",
        "print(him == her)"
      ],
      "execution_count": 0,
      "outputs": [
        {
          "output_type": "stream",
          "text": [
            "False\n",
            "True\n",
            "False\n"
          ],
          "name": "stdout"
        }
      ]
    },
    {
      "cell_type": "code",
      "metadata": {
        "id": "fVdzX5tPx1Zq",
        "colab_type": "code",
        "colab": {}
      },
      "source": [
        "#Birthdays = {'Amit':'17 oct', 'Neelesh':'15 aug', 'Batnu':'05 jun'}\n",
        "#while True:\n",
        "#  name = input('Enter the name to know  Birthday ')\n",
        "#  if name == '':\n",
        "#    break\n",
        "\n",
        "#  if name in Birthdays:\n",
        "#    print(Birthdays[name] + ' is the birthday of '+ name)\n",
        "#  else:\n",
        "#    print('I dont have Birthday of ' + name)   \n",
        "#    bday = input(\"Please enter their  b'day\")\n",
        "#    Birthdays[name] = bday\n",
        "#    print('Birthday database updated')\""
      ],
      "execution_count": 0,
      "outputs": []
    },
    {
      "cell_type": "code",
      "metadata": {
        "id": "vfXLoppvzIcf",
        "colab_type": "code",
        "outputId": "d4cca070-b887-4963-9d5c-3b62dd4deb20",
        "colab": {
          "base_uri": "https://localhost:8080/",
          "height": 153
        }
      },
      "source": [
        "# key(),  valuue() and items() method in DICTIONARIES:\n",
        "spam = {'a':'1','b':'2','c':'3','d':'4'}\n",
        "for  i in spam.values():\n",
        "  print(i, end=\",\")\n",
        "print()\n",
        "print()\n",
        "\n",
        "for  j in spam.keys():\n",
        "  print(j, end = \",\")\n",
        "print()\n",
        "print()  \n",
        "\n",
        "for k in spam.items():\n",
        "  print(k)  "
      ],
      "execution_count": 0,
      "outputs": [
        {
          "output_type": "stream",
          "text": [
            "1,2,3,4,\n",
            "\n",
            "a,b,c,d,\n",
            "\n",
            "('a', '1')\n",
            "('b', '2')\n",
            "('c', '3')\n",
            "('d', '4')\n"
          ],
          "name": "stdout"
        }
      ]
    },
    {
      "cell_type": "code",
      "metadata": {
        "id": "7VjJzTOp7n_w",
        "colab_type": "code",
        "outputId": "51856ad0-a04f-4f11-ceba-4bcb1bb6faf6",
        "colab": {
          "base_uri": "https://localhost:8080/",
          "height": 51
        }
      },
      "source": [
        "# THE get() METHOD:                                         # used to check if a key exists\n",
        "picnic_items = {'apples':5, 'orange':3}                     # gets the value of the key\n",
        "print(str(picnic_items.get('orange')))\n",
        "print(picnic_items.get('grapes'))\n"
      ],
      "execution_count": 0,
      "outputs": [
        {
          "output_type": "stream",
          "text": [
            "3\n",
            "None\n"
          ],
          "name": "stdout"
        }
      ]
    },
    {
      "cell_type": "code",
      "metadata": {
        "id": "z2g9RIwq8_Jw",
        "colab_type": "code",
        "outputId": "209bb673-87cb-4d9f-f92a-e61b1200e769",
        "colab": {
          "base_uri": "https://localhost:8080/",
          "height": 51
        }
      },
      "source": [
        "# THE setdefault() METHOD:\n",
        "spam = {'name':'Amit', 'age':'21'}\n",
        "if 'color' not in spam:\n",
        "  spam['color'] = 'black'\n",
        "\n",
        "print(spam)\n",
        "\n",
        "#Alternative way:\n",
        "a = {'A':'1', 'B':'2'}\n",
        "a.setdefault('C','3')\n",
        "a\n",
        "a.setdefault('C','4')\n"
      ],
      "execution_count": 0,
      "outputs": [
        {
          "output_type": "stream",
          "text": [
            "{'name': 'Amit', 'age': '21', 'color': 'black'}\n"
          ],
          "name": "stdout"
        },
        {
          "output_type": "execute_result",
          "data": {
            "text/plain": [
              "'3'"
            ]
          },
          "metadata": {
            "tags": []
          },
          "execution_count": 5
        }
      ]
    },
    {
      "cell_type": "code",
      "metadata": {
        "id": "ktDtmJtQ_DPp",
        "colab_type": "code",
        "outputId": "e779a017-7b5d-4360-9a56-4772503800d8",
        "colab": {
          "base_uri": "https://localhost:8080/",
          "height": 34
        }
      },
      "source": [
        "l = [1,2,3,4,5]\n",
        "for i in l[0:-2]:\n",
        "  print(i, end = ',')\n",
        "print(l[-2], end = '')\n",
        "print(' and ', end = '' )\n",
        "print(l[-1])"
      ],
      "execution_count": 0,
      "outputs": [
        {
          "output_type": "stream",
          "text": [
            "1,2,3,4 and 5\n"
          ],
          "name": "stdout"
        }
      ]
    },
    {
      "cell_type": "code",
      "metadata": {
        "id": "yNu6jEbvnZ1_",
        "colab_type": "code",
        "outputId": "59887352-72ac-4a24-93cb-42af39674b6c",
        "colab": {
          "base_uri": "https://localhost:8080/",
          "height": 462
        }
      },
      "source": [
        "# PROGRAM TO COUNT FREQUENCY OF EVERY CHAR IN A GIEVN SENTENCE\n",
        "import pprint                                               # imported for pprint\n",
        "message = \"It was a bright cold day, the weather was awesome man and we had a lot of fun roaming around\"\n",
        "c = {}\n",
        "\n",
        "for char in message:\n",
        "  c.setdefault(char,0)\n",
        "  c[char] = c[char] + 1\n",
        "\n",
        "print(c)  \n",
        "print()\n",
        "print()\n",
        "\n",
        "pprint.pprint(c)                                            # simply gives a more clearer and pretty print\n",
        " "
      ],
      "execution_count": 0,
      "outputs": [
        {
          "output_type": "stream",
          "text": [
            "{'I': 1, 't': 5, ' ': 19, 'w': 5, 'a': 12, 's': 3, 'b': 1, 'r': 4, 'i': 2, 'g': 2, 'h': 4, 'c': 1, 'o': 6, 'l': 2, 'd': 5, 'y': 1, ',': 1, 'e': 6, 'm': 3, 'n': 5, 'f': 2, 'u': 2}\n",
            "\n",
            "\n",
            "{' ': 19,\n",
            " ',': 1,\n",
            " 'I': 1,\n",
            " 'a': 12,\n",
            " 'b': 1,\n",
            " 'c': 1,\n",
            " 'd': 5,\n",
            " 'e': 6,\n",
            " 'f': 2,\n",
            " 'g': 2,\n",
            " 'h': 4,\n",
            " 'i': 2,\n",
            " 'l': 2,\n",
            " 'm': 3,\n",
            " 'n': 5,\n",
            " 'o': 6,\n",
            " 'r': 4,\n",
            " 's': 3,\n",
            " 't': 5,\n",
            " 'u': 2,\n",
            " 'w': 5,\n",
            " 'y': 1}\n"
          ],
          "name": "stdout"
        }
      ]
    },
    {
      "cell_type": "code",
      "metadata": {
        "id": "xNFf2AGpn6Jy",
        "colab_type": "code",
        "outputId": "74a6f227-736b-4564-d7ac-a9afc65be277",
        "colab": {
          "base_uri": "https://localhost:8080/",
          "height": 129
        }
      },
      "source": [
        "# NESTED DICTIONARY\n",
        "allGuest = {'Amit' = {'apple':5,  'Banana':4},\n",
        "            'Bob'  = {'papaya':3, 'Orange':2},\n",
        "            'Ram'  = {'choco':2,  'Kheer':1}  \n",
        "           }\n",
        "\n",
        "def totalBrought(guests, item):\n",
        "  numBrought = 0\n",
        "  for k,v in guests.items:\n",
        "    numBrought =            "
      ],
      "execution_count": 0,
      "outputs": [
        {
          "output_type": "error",
          "ename": "SyntaxError",
          "evalue": "ignored",
          "traceback": [
            "\u001b[0;36m  File \u001b[0;32m\"<ipython-input-12-0a29bab5c1df>\"\u001b[0;36m, line \u001b[0;32m1\u001b[0m\n\u001b[0;31m    allGuest = {'Amit' = {'apple':5,  'Banana':4},\u001b[0m\n\u001b[0m                       ^\u001b[0m\n\u001b[0;31mSyntaxError\u001b[0m\u001b[0;31m:\u001b[0m invalid syntax\n"
          ]
        }
      ]
    },
    {
      "cell_type": "code",
      "metadata": {
        "id": "p-UmaBm7wKp3",
        "colab_type": "code",
        "outputId": "445e6176-bdee-41e4-de0b-c734badc58ad",
        "colab": {
          "base_uri": "https://localhost:8080/",
          "height": 34
        }
      },
      "source": [
        "spam ={'foo':100, 'cat':'billi'}\n",
        "spam['foo']\n",
        "spam.keys()"
      ],
      "execution_count": 0,
      "outputs": [
        {
          "output_type": "execute_result",
          "data": {
            "text/plain": [
              "dict_keys(['foo', 'cat'])"
            ]
          },
          "metadata": {
            "tags": []
          },
          "execution_count": 17
        }
      ]
    }
  ]
}