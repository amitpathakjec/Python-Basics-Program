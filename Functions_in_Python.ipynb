{
  "nbformat": 4,
  "nbformat_minor": 0,
  "metadata": {
    "colab": {
      "name": "Functions_in_Python",
      "provenance": [],
      "collapsed_sections": [],
      "authorship_tag": "ABX9TyPrEE+DV1qgojs0glfNp7Um",
      "include_colab_link": true
    },
    "kernelspec": {
      "name": "python3",
      "display_name": "Python 3"
    }
  },
  "cells": [
    {
      "cell_type": "markdown",
      "metadata": {
        "id": "view-in-github",
        "colab_type": "text"
      },
      "source": [
        "<a href=\"https://colab.research.google.com/github/amitpathakjec/Python-Projects/blob/master/Functions_in_Python.ipynb\" target=\"_parent\"><img src=\"https://colab.research.google.com/assets/colab-badge.svg\" alt=\"Open In Colab\"/></a>"
      ]
    },
    {
      "cell_type": "code",
      "metadata": {
        "id": "zyld5fvMbgnM",
        "colab_type": "code",
        "outputId": "ad0ac7e2-543f-4449-ab1f-9fd71a950988",
        "colab": {
          "base_uri": "https://localhost:8080/",
          "height": 170
        }
      },
      "source": [
        "# FUNCTIONS DEF STATEMENT \n",
        "def hello():\n",
        "  print('Hello!')\n",
        "  print('Howdy!!')\n",
        "  print('Hello there.')\n",
        "\n",
        "hello()\n",
        "hello()\n",
        "hello()\n"
      ],
      "execution_count": 0,
      "outputs": [
        {
          "output_type": "stream",
          "text": [
            "Hello!\n",
            "Howdy!!\n",
            "Hello there.\n",
            "Hello!\n",
            "Howdy!!\n",
            "Hello there.\n",
            "Hello!\n",
            "Howdy!!\n",
            "Hello there.\n"
          ],
          "name": "stdout"
        }
      ]
    },
    {
      "cell_type": "code",
      "metadata": {
        "id": "crNRqGUt7YIe",
        "colab_type": "code",
        "outputId": "584c5486-8043-414f-9eec-ab99b85aa1d5",
        "colab": {
          "base_uri": "https://localhost:8080/",
          "height": 51
        }
      },
      "source": [
        "# FUNCTIONS  WITH PARAMETER\n",
        "def hello(name):\n",
        "  print('Hello '+name)\n",
        "\n",
        "hello('Amit')\n",
        "hello('Pradumn')\n"
      ],
      "execution_count": 0,
      "outputs": [
        {
          "output_type": "stream",
          "text": [
            "Hello Amit\n",
            "Hello Pradumn\n"
          ],
          "name": "stdout"
        }
      ]
    },
    {
      "cell_type": "code",
      "metadata": {
        "id": "kN4z9Wr374Pj",
        "colab_type": "code",
        "outputId": "ddc759a2-4fcf-4202-e16d-c8599455e983",
        "colab": {
          "base_uri": "https://localhost:8080/",
          "height": 34
        }
      },
      "source": [
        "# RETUEN KEYWORD\n",
        "\n",
        "import random\n",
        "def getAnswer(ansNo):\n",
        "  if ansNo == 1:\n",
        "    return 'It is certain'\n",
        "  elif ansNo == 2:\n",
        "    return 'Yes'  \n",
        "  elif ansNo == 3: \n",
        "    return ' I is decidely so'\n",
        "  elif ansNo == 4:\n",
        "    return 'Reply hazy try again'\n",
        "  elif ansNo == 5:\n",
        "    return 'ask again later'\n",
        "  elif ansNo == 6:\n",
        "    return 'concentrate and ask again'\n",
        "  elif ansNo == 7:\n",
        "    \n",
        "    return 'My reply is no'\n",
        "  elif ansNo == 8:\n",
        "    return 'Outlook not so good'\n",
        "  elif ansNo == 9:\n",
        "    return 'Very doubtful'\n",
        "\n",
        "r = random.randint(1,9)\n",
        "fortune = getAnswer(r)\n",
        "print(fortune)\n",
        "\n"
      ],
      "execution_count": 0,
      "outputs": [
        {
          "output_type": "stream",
          "text": [
            "Yes\n"
          ],
          "name": "stdout"
        }
      ]
    },
    {
      "cell_type": "code",
      "metadata": {
        "id": "LGtNrhMw-3zB",
        "colab_type": "code",
        "outputId": "9747a162-d6ff-44d1-f2e2-5b4d48f70624",
        "colab": {
          "base_uri": "https://localhost:8080/",
          "height": 51
        }
      },
      "source": [
        "# THE NONE VALUE:\n",
        "spam = 'Hello'\n",
        "print(spam)\n",
        "None ==  spam\n",
        "\n"
      ],
      "execution_count": 0,
      "outputs": [
        {
          "output_type": "stream",
          "text": [
            "Hello\n"
          ],
          "name": "stdout"
        },
        {
          "output_type": "execute_result",
          "data": {
            "text/plain": [
              "False"
            ]
          },
          "metadata": {
            "tags": []
          },
          "execution_count": 19
        }
      ]
    },
    {
      "cell_type": "code",
      "metadata": {
        "id": "wFKX8DCdAKRq",
        "colab_type": "code",
        "outputId": "dd7196fe-67da-45bd-86ea-616fbc101a73",
        "colab": {
          "base_uri": "https://localhost:8080/",
          "height": 34
        }
      },
      "source": [
        "# KEYWORD AURGUMENTS AND PRINT()\n",
        "import random\n",
        "a = random.randint(1,10)                                    # we can not give auruments as (10,1)\n",
        "print(a)"
      ],
      "execution_count": 0,
      "outputs": [
        {
          "output_type": "stream",
          "text": [
            "2\n"
          ],
          "name": "stdout"
        }
      ]
    },
    {
      "cell_type": "code",
      "metadata": {
        "id": "O9HW837CAo96",
        "colab_type": "code",
        "outputId": "03be619e-be35-41b6-eee7-dcf2e0031a56",
        "colab": {
          "base_uri": "https://localhost:8080/",
          "height": 51
        }
      },
      "source": [
        "print('Dog','Cat','Mice')\n",
        "print('Dog','Cat','Mice',sep='/')"
      ],
      "execution_count": 0,
      "outputs": [
        {
          "output_type": "stream",
          "text": [
            "Dog Cat Mice\n",
            "Dog/Cat/Mice\n"
          ],
          "name": "stdout"
        }
      ]
    },
    {
      "cell_type": "code",
      "metadata": {
        "id": "ZLMgCTENBHVA",
        "colab_type": "code",
        "colab": {}
      },
      "source": [
        "# LOCAL VS GLOBAL:\n",
        "def spam():\n",
        "  abc=31337\n",
        "\n",
        "spam()\n",
        "#print(abc)"
      ],
      "execution_count": 0,
      "outputs": []
    },
    {
      "cell_type": "code",
      "metadata": {
        "id": "KgE2mRB1BYDt",
        "colab_type": "code",
        "outputId": "8cabec77-d2d0-45fd-95c0-b4a9d5e56ecb",
        "colab": {
          "base_uri": "https://localhost:8080/",
          "height": 68
        }
      },
      "source": [
        "def spam():\n",
        "  ab=12321\n",
        "  print(ab)                                                 # will use local not the global value of variable\n",
        "\n",
        "def bacon():\n",
        "  ham = 101\n",
        "  ab = 121\n",
        "  spam()\n",
        "  print(ab) \n",
        "\n",
        "spam()\n",
        "bacon()  "
      ],
      "execution_count": 0,
      "outputs": [
        {
          "output_type": "stream",
          "text": [
            "12321\n",
            "12321\n",
            "121\n"
          ],
          "name": "stdout"
        }
      ]
    },
    {
      "cell_type": "code",
      "metadata": {
        "id": "MCeI2okuCcZi",
        "colab_type": "code",
        "outputId": "215422c8-6e35-4def-ed7a-2e4d0be67b40",
        "colab": {
          "base_uri": "https://localhost:8080/",
          "height": 51
        }
      },
      "source": [
        "abcd = 101                                                  # Global variable can be used in local scope\n",
        "def spam():\n",
        "  print(abcd)\n",
        "\n",
        "print(abcd)\n",
        "spam()"
      ],
      "execution_count": 0,
      "outputs": [
        {
          "output_type": "stream",
          "text": [
            "101\n",
            "101\n"
          ],
          "name": "stdout"
        }
      ]
    },
    {
      "cell_type": "code",
      "metadata": {
        "id": "eDny6TsZC2kr",
        "colab_type": "code",
        "outputId": "b456d5ad-a99e-4031-cbc7-6b832bc0893d",
        "colab": {
          "base_uri": "https://localhost:8080/",
          "height": 68
        }
      },
      "source": [
        "# LOCAL AND GLOBAL VARIABLE WITH SAME NAME:\n",
        "def spam():\n",
        "  eggs = 'spam local'\n",
        "  print(eggs)\n",
        "\n",
        "def bacon():\n",
        "  eggs = 'bacon local'\n",
        "  spam()\n",
        "  print(eggs)\n",
        "\n",
        "eggs = 'global'\n",
        "bacon()\n",
        "print(eggs)\n",
        "    "
      ],
      "execution_count": 0,
      "outputs": [
        {
          "output_type": "stream",
          "text": [
            "spam local\n",
            "bacon local\n",
            "global\n"
          ],
          "name": "stdout"
        }
      ]
    },
    {
      "cell_type": "code",
      "metadata": {
        "id": "kJJ9mLbHFgIQ",
        "colab_type": "code",
        "outputId": "6488539c-7f76-4783-95cb-5cbb8a082f23",
        "colab": {
          "base_uri": "https://localhost:8080/",
          "height": 34
        }
      },
      "source": [
        "def spam():\n",
        "  global ap\n",
        "  ap = 10\n",
        "\n",
        "ap = 5\n",
        "spam()\n",
        "print(ap)  "
      ],
      "execution_count": 0,
      "outputs": [
        {
          "output_type": "stream",
          "text": [
            "10\n"
          ],
          "name": "stdout"
        }
      ]
    },
    {
      "cell_type": "code",
      "metadata": {
        "id": "UNaCEm1HFzel",
        "colab_type": "code",
        "outputId": "1b56a173-499b-42ee-f191-6a110009742d",
        "colab": {
          "base_uri": "https://localhost:8080/",
          "height": 34
        }
      },
      "source": [
        "def spam():\n",
        "  global amit\n",
        "  amit = 20\n",
        "\n",
        "def bacon():\n",
        "  amit = 10\n",
        "\n",
        "def ham():\n",
        "  print(amit)\n",
        "\n",
        "amit = 42\n",
        "spam()\n",
        "print(amit)  \n"
      ],
      "execution_count": 0,
      "outputs": [
        {
          "output_type": "stream",
          "text": [
            "20\n"
          ],
          "name": "stdout"
        }
      ]
    },
    {
      "cell_type": "code",
      "metadata": {
        "id": "b7klvFF-GQFD",
        "colab_type": "code",
        "outputId": "c4ddc88d-b278-49c5-dcc9-02cbb6f88c8b",
        "colab": {
          "base_uri": "https://localhost:8080/",
          "height": 102
        }
      },
      "source": [
        "# EXCEPTION HANDLING\n",
        "def spam(by):\n",
        "  try:\n",
        "    return 42/by\n",
        "  except ZeroDivisionError:\n",
        "    print('Invalid argument.')\n",
        "\n",
        "print(spam(2))\n",
        "print(spam(21))\n",
        "print(spam(0))\n",
        "print(spam(10))                                             # this block will be excecuted because the execution jumps back to try clause from except clause"
      ],
      "execution_count": 0,
      "outputs": [
        {
          "output_type": "stream",
          "text": [
            "21.0\n",
            "2.0\n",
            "Invalid argument.\n",
            "None\n",
            "4.2\n"
          ],
          "name": "stdout"
        }
      ]
    },
    {
      "cell_type": "code",
      "metadata": {
        "id": "Hyd1C0mjJLPf",
        "colab_type": "code",
        "outputId": "929e396b-c667-43eb-bd19-03d580f4b7e5",
        "colab": {
          "base_uri": "https://localhost:8080/",
          "height": 68
        }
      },
      "source": [
        "def spam(by):\n",
        "  return 42/by\n",
        "try:\n",
        "  print(spam(2))\n",
        "  print(spam(21))\n",
        "  print(spam(0))\n",
        "  print(spam(1))                                            # this block will not be executed because  once executions jumps to except clause it doesn't returns to try clause\n",
        "except ZeroDivisionError:\n",
        "  print('Invalid argument.')"
      ],
      "execution_count": 0,
      "outputs": [
        {
          "output_type": "stream",
          "text": [
            "21.0\n",
            "2.0\n",
            "Invalid argument.\n"
          ],
          "name": "stdout"
        }
      ]
    },
    {
      "cell_type": "code",
      "metadata": {
        "id": "KgpJkk7KKJ9f",
        "colab_type": "code",
        "outputId": "0fc5469a-6812-4620-9f04-34f41f8b0a09",
        "colab": {
          "base_uri": "https://localhost:8080/",
          "height": 255
        }
      },
      "source": [
        "# GUESSING THE NUMBER\n",
        "import random\n",
        "secretNumber = random.randint(1,20)\n",
        "print(' I am thinking of a number between 1 to  20')\n",
        "\n",
        "for i in range (1,7):\n",
        "  guess = int(input('Take a guess.'))\n",
        "\n",
        "  if guess < secretNumber:\n",
        "    print('Your guess is too loo.')\n",
        "  elif guess > secretNumber:\n",
        "    print('Your guess is too high')\n",
        "  else:\n",
        "    break\n",
        "\n",
        "if guess == secretNumber:\n",
        "  print('Good job! You guessed my number in ' + str(i) + ' guesses!')\n",
        "else:\n",
        "  print('Nope. The number I was thinking was ' + str(secretNumber))       \n"
      ],
      "execution_count": 0,
      "outputs": [
        {
          "output_type": "stream",
          "text": [
            " I am thinking of a number between 1 to  20\n",
            "Take a guess.20\n",
            "Your guess is too high\n",
            "Take a guess.15\n",
            "Your guess is too high\n",
            "Take a guess.10\n",
            "Your guess is too high\n",
            "Take a guess.5\n",
            "Your guess is too high\n",
            "Take a guess.4\n",
            "Your guess is too high\n",
            "Take a guess.3\n",
            "Your guess is too high\n",
            "Nope. The number I was thinking was 2\n"
          ],
          "name": "stdout"
        }
      ]
    },
    {
      "cell_type": "code",
      "metadata": {
        "id": "NRwxRHrGNIjE",
        "colab_type": "code",
        "outputId": "02ae8124-6dca-4856-f29a-914e0d30a1a8",
        "colab": {
          "base_uri": "https://localhost:8080/",
          "height": 51
        }
      },
      "source": [
        "# PROJECT\n",
        "# THE COLLATZ SEQUENCE\n",
        "def collatz(num):\n",
        "  if num%2 == 0:                                            # means no. is even\n",
        "    print(num//2)\n",
        "  else:\n",
        "    print(3*num+1)\n",
        "\n",
        "num = int(input('Enter the number '))\n",
        "collatz(num)"
      ],
      "execution_count": 0,
      "outputs": [
        {
          "output_type": "stream",
          "text": [
            "Enter the number 2\n",
            "1\n"
          ],
          "name": "stdout"
        }
      ]
    }
  ]
}