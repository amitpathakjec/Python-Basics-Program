{
  "nbformat": 4,
  "nbformat_minor": 0,
  "metadata": {
    "colab": {
      "name": "Manipulating_Strings",
      "provenance": [],
      "collapsed_sections": [],
      "authorship_tag": "ABX9TyO5bDKYFM75gQ/Y2IDotow9",
      "include_colab_link": true
    },
    "kernelspec": {
      "name": "python3",
      "display_name": "Python 3"
    }
  },
  "cells": [
    {
      "cell_type": "markdown",
      "metadata": {
        "id": "view-in-github",
        "colab_type": "text"
      },
      "source": [
        "<a href=\"https://colab.research.google.com/github/amitpathakjec/Python-Projects/blob/master/Manipulating_Strings.ipynb\" target=\"_parent\"><img src=\"https://colab.research.google.com/assets/colab-badge.svg\" alt=\"Open In Colab\"/></a>"
      ]
    },
    {
      "cell_type": "code",
      "metadata": {
        "id": "mCFIiyGP7hAa",
        "colab_type": "code",
        "outputId": "0c203cda-77d4-4346-f0e8-76ed19ca7ecd",
        "colab": {
          "base_uri": "https://localhost:8080/",
          "height": 51
        }
      },
      "source": [
        "print('Hi, This is Amit Pathak\\'s computer')\n",
        "print(r'Hi, This is Amit Pathak\\'s computer')               # this is a raw string.\n"
      ],
      "execution_count": 0,
      "outputs": [
        {
          "output_type": "stream",
          "text": [
            "Hi, This is Amit Pathak's computer\n",
            "Hi, This is Amit Pathak\\'s computer\n"
          ],
          "name": "stdout"
        }
      ]
    },
    {
      "cell_type": "code",
      "metadata": {
        "id": "JJ8nUCqN8jkj",
        "colab_type": "code",
        "outputId": "91c12cf2-eb90-4ee9-ecb6-2d54bd9b51e8",
        "colab": {
          "base_uri": "https://localhost:8080/",
          "height": 34
        }
      },
      "source": [
        "print('Hi this is \\\\ Amit Pathak')"
      ],
      "execution_count": 0,
      "outputs": [
        {
          "output_type": "stream",
          "text": [
            "Hi this is \\ Amit Pathak\n"
          ],
          "name": "stdout"
        }
      ]
    },
    {
      "cell_type": "code",
      "metadata": {
        "id": "0r2-1et9873c",
        "colab_type": "code",
        "outputId": "e9ce149d-a633-4bec-e893-74b84d2a514c",
        "colab": {
          "base_uri": "https://localhost:8080/",
          "height": 68
        }
      },
      "source": [
        "print('Hi \\nThis is Amit Pathak, \\nHow are you doing?')\n"
      ],
      "execution_count": 0,
      "outputs": [
        {
          "output_type": "stream",
          "text": [
            "Hi \n",
            "This is Amit Pathak, \n",
            "How are you doing?\n"
          ],
          "name": "stdout"
        }
      ]
    },
    {
      "cell_type": "code",
      "metadata": {
        "id": "yLT_dXEg9L5i",
        "colab_type": "code",
        "outputId": "332648df-d628-43f9-cc75-68509ca79425",
        "colab": {
          "base_uri": "https://localhost:8080/",
          "height": 34
        }
      },
      "source": [
        "print('Hi there,\\tHow is it going')"
      ],
      "execution_count": 0,
      "outputs": [
        {
          "output_type": "stream",
          "text": [
            "Hi there,\tHow is it going\n"
          ],
          "name": "stdout"
        }
      ]
    },
    {
      "cell_type": "code",
      "metadata": {
        "id": "ayo0ItbKClCl",
        "colab_type": "code",
        "outputId": "ab31da28-cf48-4d4c-c20c-d22267650d8e",
        "colab": {
          "base_uri": "https://localhost:8080/",
          "height": 34
        }
      },
      "source": [
        "print('Hey\\\\Hello\\\\Hi')"
      ],
      "execution_count": 0,
      "outputs": [
        {
          "output_type": "stream",
          "text": [
            "Hey\\Hello\\Hi\n"
          ],
          "name": "stdout"
        }
      ]
    },
    {
      "cell_type": "code",
      "metadata": {
        "id": "FE-MOcbbC_uA",
        "colab_type": "code",
        "outputId": "40aada4a-4ab1-4216-fe92-59bc1177ea08",
        "colab": {
          "base_uri": "https://localhost:8080/",
          "height": 102
        }
      },
      "source": [
        "# MULTILINE STRING WITH 3 ' : USED TO PRINT AS IT IS\n",
        "print('''Hi,\n",
        "how\n",
        "    are \n",
        "     you \n",
        "        doing''')"
      ],
      "execution_count": 0,
      "outputs": [
        {
          "output_type": "stream",
          "text": [
            "Hi,\n",
            "how\n",
            "    are \n",
            "     you \n",
            "        doing\n"
          ],
          "name": "stdout"
        }
      ]
    },
    {
      "cell_type": "code",
      "metadata": {
        "id": "EHfXwhBSDYel",
        "colab_type": "code",
        "outputId": "f5b0a18d-040c-4081-eb2a-ee8c51ca6eb3",
        "colab": {
          "base_uri": "https://localhost:8080/",
          "height": 34
        }
      },
      "source": [
        "\"\"\" THIS IS HOW\n",
        " WE COMMENT \n",
        "MULTIPLE \n",
        "LINES\"\"\"\n",
        "print('Hello')"
      ],
      "execution_count": 0,
      "outputs": [
        {
          "output_type": "stream",
          "text": [
            "Hello\n"
          ],
          "name": "stdout"
        }
      ]
    },
    {
      "cell_type": "code",
      "metadata": {
        "id": "qrGXcFzED_vz",
        "colab_type": "code",
        "outputId": "1289e8b2-8487-4b58-cebf-ff19996b03d4",
        "colab": {
          "base_uri": "https://localhost:8080/",
          "height": 34
        }
      },
      "source": [
        "spam = ' Hello World!'\n",
        "spam[4]\n",
        "spam[-1]\n",
        "spam[0:6]\n",
        "spam[:8]\n",
        "spam[6:]"
      ],
      "execution_count": 0,
      "outputs": [
        {
          "output_type": "execute_result",
          "data": {
            "text/plain": [
              "' World!'"
            ]
          },
          "metadata": {
            "tags": []
          },
          "execution_count": 33
        }
      ]
    },
    {
      "cell_type": "code",
      "metadata": {
        "id": "2kvgdPJ9GDZV",
        "colab_type": "code",
        "outputId": "16dc69f3-6494-4c2a-d418-b4cf9ca03562",
        "colab": {
          "base_uri": "https://localhost:8080/",
          "height": 34
        }
      },
      "source": [
        "'hello' in 'hello world'\n",
        "'Hello' not in 'hello world'\n",
        "'' in 'hello'\n",
        "'cats' not in 'cats and dog'"
      ],
      "execution_count": 0,
      "outputs": [
        {
          "output_type": "execute_result",
          "data": {
            "text/plain": [
              "False"
            ]
          },
          "metadata": {
            "tags": []
          },
          "execution_count": 38
        }
      ]
    },
    {
      "cell_type": "code",
      "metadata": {
        "id": "eNiwJL4sHGyJ",
        "colab_type": "code",
        "outputId": "6b14740c-7ade-4542-a3a1-3352f6a610dc",
        "colab": {
          "base_uri": "https://localhost:8080/",
          "height": 34
        }
      },
      "source": [
        "# upper(), lower(), isupper() AND islower() METHODS:\n",
        "spam = 'hello'\n",
        "spam = spam.upper()\n",
        "print(spam)"
      ],
      "execution_count": 0,
      "outputs": [
        {
          "output_type": "stream",
          "text": [
            "HELLO\n"
          ],
          "name": "stdout"
        }
      ]
    },
    {
      "cell_type": "code",
      "metadata": {
        "id": "bE_CUG_5HcL0",
        "colab_type": "code",
        "outputId": "7f4906e5-0bf4-46d3-c331-885aff23b10c",
        "colab": {
          "base_uri": "https://localhost:8080/",
          "height": 34
        }
      },
      "source": [
        "spam = 'HEY'\n",
        "spam = spam.lower()\n",
        "print(spam)"
      ],
      "execution_count": 0,
      "outputs": [
        {
          "output_type": "stream",
          "text": [
            "hey\n"
          ],
          "name": "stdout"
        }
      ]
    },
    {
      "cell_type": "code",
      "metadata": {
        "id": "Vs1rUYO6Hl47",
        "colab_type": "code",
        "outputId": "78a3de54-4b22-40c1-ce1a-8bafd76281ca",
        "colab": {
          "base_uri": "https://localhost:8080/",
          "height": 34
        }
      },
      "source": [
        "spam = 'AMIT'\n",
        "a = spam.islower()\n",
        "print(a)"
      ],
      "execution_count": 0,
      "outputs": [
        {
          "output_type": "stream",
          "text": [
            "False\n"
          ],
          "name": "stdout"
        }
      ]
    },
    {
      "cell_type": "code",
      "metadata": {
        "id": "zaN1_x-bHtlB",
        "colab_type": "code",
        "outputId": "635dce19-3ae2-4bf2-ccbb-2536228894b4",
        "colab": {
          "base_uri": "https://localhost:8080/",
          "height": 51
        }
      },
      "source": [
        "a = 'GREat'\n",
        "check = a.islower()\n",
        "check1 = a.isupper()\n",
        "\n",
        "print(check)\n",
        "print(check1)"
      ],
      "execution_count": 0,
      "outputs": [
        {
          "output_type": "stream",
          "text": [
            "False\n",
            "False\n"
          ],
          "name": "stdout"
        }
      ]
    },
    {
      "cell_type": "code",
      "metadata": {
        "id": "t9xM4mKfH62D",
        "colab_type": "code",
        "colab": {}
      },
      "source": [
        "# isX METHODS IN STRING                                     # WILL RETURN TRUE IF:\n",
        " #1 isalpha                                                  # only letter and no blanks\n",
        "\n",
        " #2 isalnum                                                  # letter and no. and is not blank \n",
        "\n",
        " #3 isdecimal                                                # only numeric and no blank\n",
        "\n",
        " #4 isspace                                                  # only space, tabs, and newline and is not blank\n",
        " \n",
        " #5 istitle                                                  # contains only word that begin with uppercase followed by lowercase"
      ],
      "execution_count": 0,
      "outputs": []
    },
    {
      "cell_type": "code",
      "metadata": {
        "id": "vW56HKseatR9",
        "colab_type": "code",
        "outputId": "dce0b7bd-03cd-4ef1-872a-0398f13e6f04",
        "colab": {
          "base_uri": "https://localhost:8080/",
          "height": 34
        }
      },
      "source": [
        "dict = {}\n",
        "dict.setdefault('1','a')\n",
        "dict"
      ],
      "execution_count": 0,
      "outputs": [
        {
          "output_type": "execute_result",
          "data": {
            "text/plain": [
              "{'1': 'a'}"
            ]
          },
          "metadata": {
            "tags": []
          },
          "execution_count": 2
        }
      ]
    },
    {
      "cell_type": "code",
      "metadata": {
        "id": "YL2sZkRua3Fl",
        "colab_type": "code",
        "outputId": "142f055a-743c-4edb-c46c-c1a9e1749da0",
        "colab": {
          "base_uri": "https://localhost:8080/",
          "height": 34
        }
      },
      "source": [
        "spam = 'Amit PATHAK'\n",
        "spam.islower()"
      ],
      "execution_count": 0,
      "outputs": [
        {
          "output_type": "execute_result",
          "data": {
            "text/plain": [
              "False"
            ]
          },
          "metadata": {
            "tags": []
          },
          "execution_count": 3
        }
      ]
    }
  ]
}