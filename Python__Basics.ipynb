{
  "nbformat": 4,
  "nbformat_minor": 0,
  "metadata": {
    "colab": {
      "name": "Python _Basics.ipynb",
      "provenance": [],
      "collapsed_sections": [],
      "authorship_tag": "ABX9TyOvwZB3BFZdKhLLxnJkUVVp",
      "include_colab_link": true
    },
    "kernelspec": {
      "name": "python3",
      "display_name": "Python 3"
    }
  },
  "cells": [
    {
      "cell_type": "markdown",
      "metadata": {
        "id": "view-in-github",
        "colab_type": "text"
      },
      "source": [
        "<a href=\"https://colab.research.google.com/github/amitpathakjec/Python-Projects/blob/master/Python__Basics.ipynb\" target=\"_parent\"><img src=\"https://colab.research.google.com/assets/colab-badge.svg\" alt=\"Open In Colab\"/></a>"
      ]
    },
    {
      "cell_type": "code",
      "metadata": {
        "id": "rIORNdoFgAhS",
        "colab_type": "code",
        "outputId": "11bcfa9b-976b-417c-9918-602315ce5070",
        "colab": {
          "base_uri": "https://localhost:8080/",
          "height": 34
        }
      },
      "source": [
        "42+3\n",
        "#'42'+3"
      ],
      "execution_count": 0,
      "outputs": [
        {
          "output_type": "execute_result",
          "data": {
            "text/plain": [
              "45"
            ]
          },
          "metadata": {
            "tags": []
          },
          "execution_count": 5
        }
      ]
    },
    {
      "cell_type": "code",
      "metadata": {
        "id": "ZERo2wqee9GA",
        "colab_type": "code",
        "outputId": "ba8ab9fc-601c-4c07-88f3-4f3afb0b30c0",
        "colab": {
          "base_uri": "https://localhost:8080/",
          "height": 34
        }
      },
      "source": [
        "print('Hello World!')"
      ],
      "execution_count": 0,
      "outputs": [
        {
          "output_type": "stream",
          "text": [
            "Hello World!\n"
          ],
          "name": "stdout"
        }
      ]
    },
    {
      "cell_type": "code",
      "metadata": {
        "id": "WwXLV2YAhDGV",
        "colab_type": "code",
        "outputId": "2f9196ce-bc58-40ae-d2f0-217cab8e1043",
        "colab": {
          "base_uri": "https://localhost:8080/",
          "height": 34
        }
      },
      "source": [
        "2+2"
      ],
      "execution_count": 0,
      "outputs": [
        {
          "output_type": "execute_result",
          "data": {
            "text/plain": [
              "2"
            ]
          },
          "metadata": {
            "tags": []
          },
          "execution_count": 8
        }
      ]
    },
    {
      "cell_type": "code",
      "metadata": {
        "id": "jRo2uHd-hLzJ",
        "colab_type": "code",
        "outputId": "95e54178-389b-46be-b7db-168694a907f7",
        "colab": {
          "base_uri": "https://localhost:8080/",
          "height": 34
        }
      },
      "source": [
        "2"
      ],
      "execution_count": 0,
      "outputs": [
        {
          "output_type": "execute_result",
          "data": {
            "text/plain": [
              "2"
            ]
          },
          "metadata": {
            "tags": []
          },
          "execution_count": 9
        }
      ]
    },
    {
      "cell_type": "code",
      "metadata": {
        "id": "L1LhKTywhTxZ",
        "colab_type": "code",
        "outputId": "cdc238fa-11b0-406c-b715-89c9def7a53c",
        "colab": {
          "base_uri": "https://localhost:8080/",
          "height": 136
        }
      },
      "source": [
        "# OPERATORS\n",
        "print(2+2)\n",
        "print(2-3)\n",
        "print(2*2)\n",
        "print(2/2)\n",
        "print(2**4)\n",
        "print(3//2)\n",
        "print(5%3)"
      ],
      "execution_count": 0,
      "outputs": [
        {
          "output_type": "stream",
          "text": [
            "4\n",
            "-1\n",
            "4\n",
            "1.0\n",
            "16\n",
            "1\n",
            "2\n"
          ],
          "name": "stdout"
        }
      ]
    },
    {
      "cell_type": "code",
      "metadata": {
        "id": "NhnRkHwiiZcK",
        "colab_type": "code",
        "outputId": "d8bd8074-b304-435c-86fb-7d440509191f",
        "colab": {
          "base_uri": "https://localhost:8080/",
          "height": 34
        }
      },
      "source": [
        "(5-1)*((7+1)/(3-1))"
      ],
      "execution_count": 0,
      "outputs": [
        {
          "output_type": "execute_result",
          "data": {
            "text/plain": [
              "16.0"
            ]
          },
          "metadata": {
            "tags": []
          },
          "execution_count": 17
        }
      ]
    },
    {
      "cell_type": "code",
      "metadata": {
        "id": "QTtW1t6oi5Dv",
        "colab_type": "code",
        "outputId": "cb0ca7a3-973a-4d04-b7db-4c68fe4681d2",
        "colab": {
          "base_uri": "https://localhost:8080/",
          "height": 34
        }
      },
      "source": [
        "# BODMAS\n",
        "45+5*-2 "
      ],
      "execution_count": 0,
      "outputs": [
        {
          "output_type": "execute_result",
          "data": {
            "text/plain": [
              "35"
            ]
          },
          "metadata": {
            "tags": []
          },
          "execution_count": 22
        }
      ]
    },
    {
      "cell_type": "code",
      "metadata": {
        "id": "ZF2rjR4sjJ5i",
        "colab_type": "code",
        "outputId": "30028e5c-d1e4-43b9-c26a-e9c17b23fe36",
        "colab": {
          "base_uri": "https://localhost:8080/",
          "height": 34
        }
      },
      "source": [
        "print('this is a code in python')\n"
      ],
      "execution_count": 0,
      "outputs": [
        {
          "output_type": "stream",
          "text": [
            "this is a code in python\n"
          ],
          "name": "stdout"
        }
      ]
    },
    {
      "cell_type": "code",
      "metadata": {
        "id": "R9cuA_2Kkc-F",
        "colab_type": "code",
        "outputId": "4ea3c7ed-c0bf-4d44-c0f9-c8de19b60775",
        "colab": {
          "base_uri": "https://localhost:8080/",
          "height": 34
        }
      },
      "source": [
        "# STRING CONCATINATION\n",
        "'Amit' + 'Pathak'"
      ],
      "execution_count": 0,
      "outputs": [
        {
          "output_type": "execute_result",
          "data": {
            "text/plain": [
              "'AmitPathak'"
            ]
          },
          "metadata": {
            "tags": []
          },
          "execution_count": 37
        }
      ]
    },
    {
      "cell_type": "code",
      "metadata": {
        "id": "YAm8Se-Bk7jL",
        "colab_type": "code",
        "outputId": "c0831434-2a11-4102-dcb2-5c2eb76dba31",
        "colab": {
          "base_uri": "https://localhost:8080/",
          "height": 34
        }
      },
      "source": [
        "# STRING REPLICATION\n",
        "'AMIT' * 5\n",
        "#'Amit' * 'Pathak' "
      ],
      "execution_count": 0,
      "outputs": [
        {
          "output_type": "execute_result",
          "data": {
            "text/plain": [
              "'AMITAMITAMITAMITAMIT'"
            ]
          },
          "metadata": {
            "tags": []
          },
          "execution_count": 41
        }
      ]
    },
    {
      "cell_type": "code",
      "metadata": {
        "id": "EHGLyyOZlWFu",
        "colab_type": "code",
        "outputId": "19664d19-60e8-43c4-a204-9d7a3b94def6",
        "colab": {
          "base_uri": "https://localhost:8080/",
          "height": 34
        }
      },
      "source": [
        "# ASSIGNMENT STATEMENT\n",
        "a = 40\n",
        "a\n",
        "b = 2\n",
        "a + b\n",
        "a + b + a\n",
        "a = a + b\n",
        "a"
      ],
      "execution_count": 0,
      "outputs": [
        {
          "output_type": "execute_result",
          "data": {
            "text/plain": [
              "42"
            ]
          },
          "metadata": {
            "tags": []
          },
          "execution_count": 49
        }
      ]
    },
    {
      "cell_type": "code",
      "metadata": {
        "id": "zPzHuWxel3st",
        "colab_type": "code",
        "outputId": "b92ba6d6-88ba-42e4-df3e-949a3b1ce2e1",
        "colab": {
          "base_uri": "https://localhost:8080/",
          "height": 34
        }
      },
      "source": [
        "# WHEN A NEW VALUEE IS ASSIGNED TO THE VARIABLE THE OLD ONE IS FORGOTTEN \n",
        "a = ' Hello! '\n",
        "a\n",
        "a = 'Goodbye'\n",
        "a"
      ],
      "execution_count": 0,
      "outputs": [
        {
          "output_type": "execute_result",
          "data": {
            "text/plain": [
              "'Goodbye'"
            ]
          },
          "metadata": {
            "tags": []
          },
          "execution_count": 52
        }
      ]
    },
    {
      "cell_type": "code",
      "metadata": {
        "id": "Zacp4wj8mbE0",
        "colab_type": "code",
        "outputId": "2434cb6f-96a6-4a14-c354-20ec3539f785",
        "colab": {
          "base_uri": "https://localhost:8080/",
          "height": 51
        }
      },
      "source": [
        "SPAM = 1\n",
        "spam = 2\n",
        "SpAm = 3\n",
        "sPaM = 4\n",
        "print(SPAM)\n",
        "print(sPaM)"
      ],
      "execution_count": 0,
      "outputs": [
        {
          "output_type": "stream",
          "text": [
            "1\n",
            "4\n"
          ],
          "name": "stdout"
        }
      ]
    },
    {
      "cell_type": "code",
      "metadata": {
        "id": "A19yKO5ym7g2",
        "colab_type": "code",
        "outputId": "304b173a-8250-42ad-ef32-2a0361af4ad3",
        "colab": {
          "base_uri": "https://localhost:8080/",
          "height": 153
        }
      },
      "source": [
        "# THE PROGRAM SAYS HELLO AND ASKS FOR YOUR NAME\n",
        "print('Please enter your name:')\n",
        "My_name = input()\n",
        "print('Hi, ' + My_name+ ' it is  nice meeting you')\n",
        "print('The length of your name is:')\n",
        "print(len(My_name))\n",
        "print('What is your age?')\n",
        "my_age = input()\n",
        "print('Wow, you will be '+str(int(my_age)+1)+ ' in a year')"
      ],
      "execution_count": 0,
      "outputs": [
        {
          "output_type": "stream",
          "text": [
            "Please enter your name:\n",
            "Amit\n",
            "Hi, Amit it is  nice meeting you\n",
            "The length of your name is:\n",
            "4\n",
            "What is your age?\n",
            "21\n",
            "Wow, you will be 22 in a year\n"
          ],
          "name": "stdout"
        }
      ]
    },
    {
      "cell_type": "code",
      "metadata": {
        "id": "viSv5jRRoFCy",
        "colab_type": "code",
        "outputId": "b472d05f-1c66-407e-ee66-85da483e10f9",
        "colab": {
          "base_uri": "https://localhost:8080/",
          "height": 34
        }
      },
      "source": [
        "len('My name Amit Pathak')\n",
        "len('')\n",
        "print('I am ' + str(21) + ' years old')"
      ],
      "execution_count": 0,
      "outputs": [
        {
          "output_type": "stream",
          "text": [
            "I am 21 years old\n"
          ],
          "name": "stdout"
        }
      ]
    },
    {
      "cell_type": "code",
      "metadata": {
        "id": "cATrFAKyqunC",
        "colab_type": "code",
        "outputId": "82e98b8d-8b4b-4833-8a23-b9a1c7bd8687",
        "colab": {
          "base_uri": "https://localhost:8080/",
          "height": 34
        }
      },
      "source": [
        "# THE INT(), FLOAT() AND STRING() FUNCTION\n",
        "str(23)"
      ],
      "execution_count": 0,
      "outputs": [
        {
          "output_type": "execute_result",
          "data": {
            "text/plain": [
              "'23'"
            ]
          },
          "metadata": {
            "tags": []
          },
          "execution_count": 77
        }
      ]
    },
    {
      "cell_type": "code",
      "metadata": {
        "id": "7idUqpqHrDhO",
        "colab_type": "code",
        "outputId": "cd1201d2-d3ec-4a82-b0d6-f767502b2fc9",
        "colab": {
          "base_uri": "https://localhost:8080/",
          "height": 34
        }
      },
      "source": [
        "float('23')"
      ],
      "execution_count": 0,
      "outputs": [
        {
          "output_type": "execute_result",
          "data": {
            "text/plain": [
              "23.0"
            ]
          },
          "metadata": {
            "tags": []
          },
          "execution_count": 82
        }
      ]
    },
    {
      "cell_type": "code",
      "metadata": {
        "id": "vJf7XhkgrNtp",
        "colab_type": "code",
        "outputId": "4a21b65a-998d-4120-a462-e28291405a08",
        "colab": {
          "base_uri": "https://localhost:8080/",
          "height": 34
        }
      },
      "source": [
        "int('12')"
      ],
      "execution_count": 0,
      "outputs": [
        {
          "output_type": "execute_result",
          "data": {
            "text/plain": [
              "12"
            ]
          },
          "metadata": {
            "tags": []
          },
          "execution_count": 84
        }
      ]
    },
    {
      "cell_type": "code",
      "metadata": {
        "id": "DY6kWQFirQDc",
        "colab_type": "code",
        "outputId": "2c6d792c-a940-4c24-b1da-5a8827c50be0",
        "colab": {
          "base_uri": "https://localhost:8080/",
          "height": 34
        }
      },
      "source": [
        "str(-3.14)"
      ],
      "execution_count": 0,
      "outputs": [
        {
          "output_type": "execute_result",
          "data": {
            "text/plain": [
              "'-3.14'"
            ]
          },
          "metadata": {
            "tags": []
          },
          "execution_count": 85
        }
      ]
    },
    {
      "cell_type": "code",
      "metadata": {
        "id": "Cp-Qa1sgrUDY",
        "colab_type": "code",
        "outputId": "91fe1214-d2fa-485e-e5ea-c31b4c23ef5f",
        "colab": {
          "base_uri": "https://localhost:8080/",
          "height": 51
        }
      },
      "source": [
        "# INPUT FUNCTOION RETURNS STRING DATA TYPE\n",
        "spam = input()\n",
        "spam"
      ],
      "execution_count": 0,
      "outputs": [
        {
          "output_type": "stream",
          "text": [
            "141\n"
          ],
          "name": "stdout"
        },
        {
          "output_type": "execute_result",
          "data": {
            "text/plain": [
              "'141'"
            ]
          },
          "metadata": {
            "tags": []
          },
          "execution_count": 90
        }
      ]
    },
    {
      "cell_type": "code",
      "metadata": {
        "id": "GU9odFvertvz",
        "colab_type": "code",
        "outputId": "17963ab3-8254-4593-a801-4d8201b756b7",
        "colab": {
          "base_uri": "https://localhost:8080/",
          "height": 34
        }
      },
      "source": [
        "int(4957.96723)"
      ],
      "execution_count": 0,
      "outputs": [
        {
          "output_type": "execute_result",
          "data": {
            "text/plain": [
              "4957"
            ]
          },
          "metadata": {
            "tags": []
          },
          "execution_count": 95
        }
      ]
    },
    {
      "cell_type": "code",
      "metadata": {
        "id": "O-xJMO3tsUgq",
        "colab_type": "code",
        "outputId": "968083ce-64ff-4e18-e138-9186451f140f",
        "colab": {
          "base_uri": "https://localhost:8080/",
          "height": 34
        }
      },
      "source": [
        "int(7.7)+1"
      ],
      "execution_count": 0,
      "outputs": [
        {
          "output_type": "execute_result",
          "data": {
            "text/plain": [
              "8"
            ]
          },
          "metadata": {
            "tags": []
          },
          "execution_count": 97
        }
      ]
    },
    {
      "cell_type": "code",
      "metadata": {
        "id": "iBPVNrwDsajZ",
        "colab_type": "code",
        "outputId": "02325284-2a94-4461-d9ba-e071f8021b73",
        "colab": {
          "base_uri": "https://localhost:8080/",
          "height": 68
        }
      },
      "source": [
        "print('What is your age?')\n",
        "AGE = input()\n",
        "print('You will be '+str(int(AGE)+1)+ ' in a year')\n"
      ],
      "execution_count": 0,
      "outputs": [
        {
          "output_type": "stream",
          "text": [
            "What is your age?\n",
            "53\n",
            "You will be 54 in a year\n"
          ],
          "name": "stdout"
        }
      ]
    },
    {
      "cell_type": "code",
      "metadata": {
        "id": "XmKJ0bH8sz1h",
        "colab_type": "code",
        "outputId": "d6079056-786b-48e2-ea8c-6df39fb19247",
        "colab": {
          "base_uri": "https://localhost:8080/",
          "height": 34
        }
      },
      "source": [
        "# FEW COMPARISON EAXMPLES OF TEXT AND NUMBERS\n",
        "42 == 42.0"
      ],
      "execution_count": 0,
      "outputs": [
        {
          "output_type": "execute_result",
          "data": {
            "text/plain": [
              "True"
            ]
          },
          "metadata": {
            "tags": []
          },
          "execution_count": 105
        }
      ]
    },
    {
      "cell_type": "code",
      "metadata": {
        "id": "bOmls7Y-s8f0",
        "colab_type": "code",
        "outputId": "a4b3baf2-087e-46a9-899d-06c3602c7c6e",
        "colab": {
          "base_uri": "https://localhost:8080/",
          "height": 34
        }
      },
      "source": [
        "42 == 42"
      ],
      "execution_count": 0,
      "outputs": [
        {
          "output_type": "execute_result",
          "data": {
            "text/plain": [
              "True"
            ]
          },
          "metadata": {
            "tags": []
          },
          "execution_count": 102
        }
      ]
    },
    {
      "cell_type": "code",
      "metadata": {
        "id": "OCQvnwFXs96x",
        "colab_type": "code",
        "outputId": "a70d6b21-4c23-4ab0-cb75-5a052c545359",
        "colab": {
          "base_uri": "https://localhost:8080/",
          "height": 34
        }
      },
      "source": [
        "42.0 == 0042.000"
      ],
      "execution_count": 0,
      "outputs": [
        {
          "output_type": "execute_result",
          "data": {
            "text/plain": [
              "True"
            ]
          },
          "metadata": {
            "tags": []
          },
          "execution_count": 103
        }
      ]
    },
    {
      "cell_type": "code",
      "metadata": {
        "id": "W-63YNsotCsc",
        "colab_type": "code",
        "outputId": "9678c5df-b341-4f43-bec6-d936bcc3ce30",
        "colab": {
          "base_uri": "https://localhost:8080/",
          "height": 34
        }
      },
      "source": [
        "42 == '42'"
      ],
      "execution_count": 0,
      "outputs": [
        {
          "output_type": "execute_result",
          "data": {
            "text/plain": [
              "False"
            ]
          },
          "metadata": {
            "tags": []
          },
          "execution_count": 104
        }
      ]
    },
    {
      "cell_type": "code",
      "metadata": {
        "id": "NoFjYZeLtFQx",
        "colab_type": "code",
        "outputId": "2f74976d-15aa-49bd-d67b-030735019737",
        "colab": {
          "base_uri": "https://localhost:8080/",
          "height": 34
        }
      },
      "source": [
        "spam"
      ],
      "execution_count": 0,
      "outputs": [
        {
          "output_type": "execute_result",
          "data": {
            "text/plain": [
              "'141'"
            ]
          },
          "metadata": {
            "tags": []
          },
          "execution_count": 115
        }
      ]
    },
    {
      "cell_type": "code",
      "metadata": {
        "id": "l4mELF44vSs6",
        "colab_type": "code",
        "outputId": "e6b79d2f-17c7-4a3b-85d4-b0034b7a0c4b",
        "colab": {
          "base_uri": "https://localhost:8080/",
          "height": 34
        }
      },
      "source": [
        "b=20\n",
        "b+1"
      ],
      "execution_count": 0,
      "outputs": [
        {
          "output_type": "execute_result",
          "data": {
            "text/plain": [
              "21"
            ]
          },
          "metadata": {
            "tags": []
          },
          "execution_count": 117
        }
      ]
    },
    {
      "cell_type": "code",
      "metadata": {
        "id": "mgcMUo68vy6d",
        "colab_type": "code",
        "outputId": "bd1e5aa9-6650-4c08-d028-f144d80f7688",
        "colab": {
          "base_uri": "https://localhost:8080/",
          "height": 34
        }
      },
      "source": [
        "'I have eaten ' + str(99) + ' burritos'"
      ],
      "execution_count": 0,
      "outputs": [
        {
          "output_type": "execute_result",
          "data": {
            "text/plain": [
              "'I have eaten 99 burritos'"
            ]
          },
          "metadata": {
            "tags": []
          },
          "execution_count": 118
        }
      ]
    },
    {
      "cell_type": "code",
      "metadata": {
        "id": "kFLiXrxYv4sU",
        "colab_type": "code",
        "outputId": "7012f43c-e64a-4c6b-d73e-36ee9a55553c",
        "colab": {
          "base_uri": "https://localhost:8080/",
          "height": 34
        }
      },
      "source": [
        "# ROUND() FUNCTION\n",
        "round(99.49999999999  )"
      ],
      "execution_count": 0,
      "outputs": [
        {
          "output_type": "execute_result",
          "data": {
            "text/plain": [
              "99"
            ]
          },
          "metadata": {
            "tags": []
          },
          "execution_count": 123
        }
      ]
    },
    {
      "cell_type": "code",
      "metadata": {
        "id": "gMRib-N3wA4Q",
        "colab_type": "code",
        "colab": {}
      },
      "source": [
        ""
      ],
      "execution_count": 0,
      "outputs": []
    }
  ]
}